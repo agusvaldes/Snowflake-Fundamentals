{
 "cells": [
  {
   "cell_type": "markdown",
   "metadata": {},
   "source": [
    "## Chapter 16: Exploring Streams in Snowflake"
   ]
  },
  {
   "cell_type": "markdown",
   "metadata": {},
   "source": [
    "### Stream Basics and Insert Operations\n",
    "\n",
    "#### This chapter introduces the concept of streams in Snowflake and demonstrates their usage through practical examples. It covers the creation of streams, their association with tables, and the process of capturing changes using the INSERT operation. Various scenarios, such as the insertion of new data into a stream and its consumption, are explored to showcase the real-time data flow capabilities."
   ]
  },
  {
   "cell_type": "code",
   "execution_count": null,
   "metadata": {
    "vscode": {
     "languageId": "plaintext"
    }
   },
   "outputs": [],
   "source": [
    "CREATE OR REPLACE TRANSIENT DATABASE STREAMS_DB;\n",
    "\n",
    "-- Create example table \n",
    "create or replace table sales_raw_staging(\n",
    "  id varchar,\n",
    "  product varchar,\n",
    "  price varchar,\n",
    "  amount varchar,\n",
    "  store_id varchar);\n",
    "  \n",
    "-- insert values \n",
    "insert into sales_raw_staging \n",
    "    values\n",
    "        (1,'Banana',1.99,1,1),\n",
    "        (2,'Lemon',0.99,1,1),\n",
    "        (3,'Apple',1.79,1,2),\n",
    "        (4,'Orange Juice',1.89,1,2),\n",
    "        (5,'Cereals',5.98,2,1);  \n",
    "\n",
    "\n",
    "create or replace table store_table(\n",
    "  store_id number,\n",
    "  location varchar,\n",
    "  employees number);\n",
    "\n",
    "\n",
    "INSERT INTO STORE_TABLE VALUES(1,'Chicago',33);\n",
    "INSERT INTO STORE_TABLE VALUES(2,'London',12);\n",
    "\n",
    "create or replace table sales_final_table(\n",
    "  id int,\n",
    "  product varchar,\n",
    "  price number,\n",
    "  amount int,\n",
    "  store_id int,\n",
    "  location varchar,\n",
    "  employees int);\n",
    "\n",
    " -- Insert into final table\n",
    "INSERT INTO sales_final_table \n",
    "    SELECT \n",
    "    SA.id,\n",
    "    SA.product,\n",
    "    SA.price,\n",
    "    SA.amount,\n",
    "    ST.STORE_ID,\n",
    "    ST.LOCATION, \n",
    "    ST.EMPLOYEES \n",
    "    FROM SALES_RAW_STAGING SA\n",
    "    JOIN STORE_TABLE ST ON ST.STORE_ID=SA.STORE_ID ;\n",
    "\n",
    "\n",
    "\n",
    "-- Create a stream object\n",
    "create or replace stream sales_stream on table sales_raw_staging;\n",
    "\n",
    "\n",
    "SHOW STREAMS;\n",
    "\n",
    "DESC STREAM sales_stream;\n",
    "\n",
    "-- Get changes on data using stream (INSERTS)\n",
    "select * from sales_stream;\n",
    "\n",
    "select * from sales_raw_staging;\n",
    "        \n",
    "                                 \n",
    "\n",
    "-- insert values \n",
    "insert into sales_raw_staging  \n",
    "    values\n",
    "        (6,'Mango',1.99,1,2),\n",
    "        (7,'Garlic',0.99,1,1);\n",
    "        \n",
    "-- Get changes on data using stream (INSERTS)\n",
    "select * from sales_stream;\n",
    "\n",
    "select * from sales_raw_staging;\n",
    "                \n",
    "select * from sales_final_table;        \n",
    "        \n",
    "\n",
    "-- Consume stream object\n",
    "INSERT INTO sales_final_table \n",
    "    SELECT \n",
    "    SA.id,\n",
    "    SA.product,\n",
    "    SA.price,\n",
    "    SA.amount,\n",
    "    ST.STORE_ID,\n",
    "    ST.LOCATION, \n",
    "    ST.EMPLOYEES \n",
    "    FROM SALES_STREAM SA\n",
    "    JOIN STORE_TABLE ST ON ST.STORE_ID=SA.STORE_ID ;\n",
    "\n",
    "\n",
    "-- Get changes on data using stream (INSERTS)\n",
    "select * from sales_stream;\n",
    "\n",
    "\n",
    "\n",
    "\n",
    "-- insert values \n",
    "insert into sales_raw_staging  \n",
    "    values\n",
    "        (8,'Paprika',4.99,1,2),\n",
    "        (9,'Tomato',3.99,1,2);\n",
    "        \n",
    "        \n",
    " -- Consume stream object\n",
    "INSERT INTO sales_final_table \n",
    "    SELECT \n",
    "    SA.id,\n",
    "    SA.product,\n",
    "    SA.price,\n",
    "    SA.amount,\n",
    "    ST.STORE_ID,\n",
    "    ST.LOCATION, \n",
    "    ST.EMPLOYEES \n",
    "    FROM SALES_STREAM SA\n",
    "    JOIN STORE_TABLE ST ON ST.STORE_ID=SA.STORE_ID ;\n",
    "       \n",
    "              \n",
    "SELECT * FROM SALES_FINAL_TABLE;        \n",
    "\n",
    "SELECT * FROM SALES_RAW_STAGING;     \n",
    "        \n",
    "SELECT * FROM SALES_STREAM;\n"
   ]
  },
  {
   "cell_type": "markdown",
   "metadata": {},
   "source": [
    "### Update Operations and Merging Changes\n"
   ]
  },
  {
   "cell_type": "markdown",
   "metadata": {},
   "source": [
    "#### The chapter delves into handling updates within streams, showcasing how to manage changes in existing data using UPDATE statements. Additionally, the process of merging these changes into a final table is discussed, providing insights into maintaining a synchronized dataset."
   ]
  },
  {
   "cell_type": "code",
   "execution_count": null,
   "metadata": {
    "vscode": {
     "languageId": "plaintext"
    }
   },
   "outputs": [],
   "source": [
    "SELECT * FROM SALES_RAW_STAGING;     \n",
    "        \n",
    "SELECT * FROM SALES_STREAM;\n",
    "\n",
    "UPDATE SALES_RAW_STAGING\n",
    "SET PRODUCT ='Potato' WHERE PRODUCT = 'Banana';\n",
    "\n",
    "\n",
    "\n",
    "merge into SALES_FINAL_TABLE F      -- Target table to merge changes from source table\n",
    "using SALES_STREAM S                -- Stream that has captured the changes\n",
    "   on  f.id = s.id                 \n",
    "when matched \n",
    "    and S.METADATA$ACTION ='INSERT'\n",
    "    and S.METADATA$ISUPDATE ='TRUE'        -- Indicates the record has been updated \n",
    "    then update \n",
    "    set f.product = s.product,\n",
    "        f.price = s.price,\n",
    "        f.amount= s.amount,\n",
    "        f.store_id=s.store_id;\n",
    "        \n",
    "\n",
    "SELECT * FROM SALES_FINAL_TABLE;\n",
    "\n",
    "SELECT * FROM SALES_RAW_STAGING;     \n",
    "        \n",
    "SELECT * FROM SALES_STREAM;\n",
    "\n",
    "-- ******* UPDATE 2 ********\n",
    "\n",
    "UPDATE SALES_RAW_STAGING\n",
    "SET PRODUCT ='Green apple' WHERE PRODUCT = 'Apple';\n",
    "\n",
    "\n",
    "merge into SALES_FINAL_TABLE F      -- Target table to merge changes from source table\n",
    "using SALES_STREAM S                -- Stream that has captured the changes\n",
    "   on  f.id = s.id                 \n",
    "when matched \n",
    "    and S.METADATA$ACTION ='INSERT'\n",
    "    and S.METADATA$ISUPDATE ='TRUE'        -- Indicates the record has been updated \n",
    "    then update \n",
    "    set f.product = s.product,\n",
    "        f.price = s.price,\n",
    "        f.amount= s.amount,\n",
    "        f.store_id=s.store_id;\n",
    "\n",
    "\n",
    "SELECT * FROM SALES_FINAL_TABLE;\n",
    "\n",
    "SELECT * FROM SALES_RAW_STAGING;     \n",
    "        \n",
    "SELECT * FROM SALES_STREAM;"
   ]
  },
  {
   "cell_type": "markdown",
   "metadata": {},
   "source": [
    "### Delete Operations and Task Automation\n"
   ]
  },
  {
   "cell_type": "markdown",
   "metadata": {},
   "source": [
    "#### The tutorial progresses to illustrate the management of deleted records within streams, emphasizing the significance of handling data removal scenarios. Automation of data processing tasks is introduced, demonstrating how tasks can be triggered by the availability of data in a stream.\n",
    "\n"
   ]
  },
  {
   "cell_type": "code",
   "execution_count": null,
   "metadata": {
    "vscode": {
     "languageId": "plaintext"
    }
   },
   "outputs": [],
   "source": [
    "SELECT * FROM SALES_FINAL_TABLE;\n",
    "\n",
    "SELECT * FROM SALES_RAW_STAGING;     \n",
    "        \n",
    "SELECT * FROM SALES_STREAM;    \n",
    "\n",
    "DELETE FROM SALES_RAW_STAGING\n",
    "WHERE PRODUCT = 'Lemon';\n",
    "        \n",
    "        \n",
    "        \n",
    "        \n",
    "-- ******* Process stream  ********            \n",
    "\n",
    "        \n",
    "merge into SALES_FINAL_TABLE F      -- Target table to merge changes from source table\n",
    "using SALES_STREAM S                -- Stream that has captured the changes\n",
    "   on  f.id = s.id          \n",
    "when matched \n",
    "    and S.METADATA$ACTION ='DELETE' \n",
    "    and S.METADATA$ISUPDATE = 'FALSE'\n",
    "    then delete   ;            \n"
   ]
  },
  {
   "cell_type": "markdown",
   "metadata": {},
   "source": [
    "### Append-Only Streams and Change Tracking\n"
   ]
  },
  {
   "cell_type": "markdown",
   "metadata": {},
   "source": [
    "#### The concept of append-only streams is explored, providing an understanding of how Snowflake handles streams with an append-only approach. The chapter concludes by introducing the CHANGE_TRACKING attribute, which enhances the ability to track changes in a table, facilitating a comprehensive audit trail.\n",
    "\n",
    "#### This chapter equips users with practical skills to harness the power of streams in Snowflake for real-time data processing, enabling them to build robust and dynamic data pipelines."
   ]
  }
 ],
 "metadata": {
  "language_info": {
   "name": "python"
  }
 },
 "nbformat": 4,
 "nbformat_minor": 2
}
