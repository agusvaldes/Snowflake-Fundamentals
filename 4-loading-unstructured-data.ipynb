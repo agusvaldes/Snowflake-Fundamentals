{
 "cells": [
  {
   "cell_type": "markdown",
   "metadata": {},
   "source": [
    "## Chapter 4: Loading Unstructured Data in Snowflake\n",
    "### Handling JSON Data\n",
    "This chapter focuses on loading raw JSON data into Snowflake, parsing and analyzing the raw JSON, handling nested data, dealing with hierarchy, and inserting the final data.\n",
    "\n",
    "Load Raw JSON"
   ]
  },
  {
   "cell_type": "code",
   "execution_count": null,
   "metadata": {},
   "outputs": [],
   "source": [
    "\"\"\"-- First step: Load Raw JSON\n",
    "CREATE OR REPLACE stage MANAGE_DB.EXTERNAL_STAGES.JSONSTAGE\n",
    "     url='s3://bucketsnowflake-jsondemo';\n",
    "\n",
    "CREATE OR REPLACE file format MANAGE_DB.FILE_FORMATS.JSONFORMAT\n",
    "    TYPE = JSON;\n",
    "    \n",
    "CREATE OR REPLACE table OUR_FIRST_DB.PUBLIC.JSON_RAW (\n",
    "    raw_file variant);\n",
    "    \n",
    "COPY INTO OUR_FIRST_DB.PUBLIC.JSON_RAW\n",
    "    FROM @MANAGE_DB.EXTERNAL_STAGES.JSONSTAGE\n",
    "    file_format= MANAGE_DB.FILE_FORMATS.JSONFORMAT\n",
    "    files = ('HR_data.json');\n",
    "   \n",
    "SELECT * FROM OUR_FIRST_DB.PUBLIC.JSON_RAW;\"\"\"\n"
   ]
  },
  {
   "cell_type": "markdown",
   "metadata": {},
   "source": [
    "Parse & Analyze Raw JSON"
   ]
  },
  {
   "cell_type": "code",
   "execution_count": null,
   "metadata": {},
   "outputs": [],
   "source": [
    "\"\"\"-- Selecting attribute/column\n",
    "SELECT RAW_FILE:city FROM OUR_FIRST_DB.PUBLIC.JSON_RAW;\n",
    "\n",
    "SELECT $1:first_name FROM OUR_FIRST_DB.PUBLIC.JSON_RAW;\n",
    "\n",
    "-- Handling nested data\n",
    "SELECT RAW_FILE:job as job  FROM OUR_FIRST_DB.PUBLIC.JSON_RAW;\"\"\""
   ]
  },
  {
   "cell_type": "markdown",
   "metadata": {},
   "source": [
    "Handling Nested Data"
   ]
  },
  {
   "cell_type": "code",
   "execution_count": null,
   "metadata": {},
   "outputs": [],
   "source": [
    "\"\"\"SELECT RAW_FILE:job as job  FROM OUR_FIRST_DB.PUBLIC.JSON_RAW;\n",
    "\n",
    "SELECT \n",
    "      RAW_FILE:job.salary::INT as salary\n",
    "FROM OUR_FIRST_DB.PUBLIC.JSON_RAW;\"\"\""
   ]
  },
  {
   "cell_type": "markdown",
   "metadata": {},
   "source": [
    "Dealing with Arrays"
   ]
  },
  {
   "cell_type": "code",
   "execution_count": null,
   "metadata": {},
   "outputs": [],
   "source": [
    "\"\"\"SELECT\n",
    "    RAW_FILE:prev_company as prev_company\n",
    "FROM OUR_FIRST_DB.PUBLIC.JSON_RAW;\n",
    "\n",
    "SELECT\n",
    "    RAW_FILE:prev_company[1]::STRING as prev_company\n",
    "FROM OUR_FIRST_DB.PUBLIC.JSON_RAW;\"\"\""
   ]
  },
  {
   "cell_type": "markdown",
   "metadata": {},
   "source": [
    "Dealing with Hierarchy"
   ]
  },
  {
   "cell_type": "code",
   "execution_count": null,
   "metadata": {},
   "outputs": [],
   "source": [
    "\"\"\"SELECT \n",
    "    RAW_FILE:spoken_languages as spoken_languages\n",
    "FROM OUR_FIRST_DB.PUBLIC.JSON_RAW;\n",
    "\n",
    "SELECT * FROM OUR_FIRST_DB.PUBLIC.JSON_RAW;\n",
    "\n",
    "SELECT \n",
    "     array_size(RAW_FILE:spoken_languages) as spoken_languages\n",
    "FROM OUR_FIRST_DB.PUBLIC.JSON_RAW;\"\"\""
   ]
  },
  {
   "cell_type": "markdown",
   "metadata": {},
   "source": [
    "Insert the Final Data"
   ]
  },
  {
   "cell_type": "code",
   "execution_count": null,
   "metadata": {},
   "outputs": [],
   "source": [
    "\"\"\"-- Option 1: CREATE TABLE AS\n",
    "CREATE OR REPLACE TABLE Languages AS\n",
    "select\n",
    "      RAW_FILE:first_name::STRING as First_name,\n",
    "    f.value:language::STRING as First_language,\n",
    "   f.value:level::STRING as Level_spoken\n",
    "from OUR_FIRST_DB.PUBLIC.JSON_RAW, table(flatten(RAW_FILE:spoken_languages)) f;\n",
    "\n",
    "SELECT * FROM Languages;\n",
    "\n",
    "-- Option 2: INSERT INTO\n",
    "INSERT INTO Languages\n",
    "select\n",
    "      RAW_FILE:first_name::STRING as First_name,\n",
    "    f.value:language::STRING as First_language,\n",
    "   f.value:level::STRING as Level_spoken\n",
    "from OUR_FIRST_DB.PUBLIC.JSON_RAW, table(flatten(RAW_FILE:spoken_languages)) f;\n",
    "\n",
    "SELECT * FROM Languages;\"\"\""
   ]
  },
  {
   "cell_type": "markdown",
   "metadata": {},
   "source": [
    "Parquet Data 1\n"
   ]
  },
  {
   "cell_type": "code",
   "execution_count": null,
   "metadata": {},
   "outputs": [],
   "source": [
    "\"\"\"-- Create file format and stage object\n",
    "CREATE OR REPLACE FILE FORMAT MANAGE_DB.FILE_FORMATS.PARQUET_FORMAT\n",
    "    TYPE = 'parquet';\n",
    "\n",
    "CREATE OR REPLACE STAGE MANAGE_DB.EXTERNAL_STAGES.PARQUETSTAGE\n",
    "    url = 's3://snowflakeparquetdemo'   \n",
    "    FILE_FORMAT = MANAGE_DB.FILE_FORMATS.PARQUET_FORMAT;\n",
    "\n",
    "-- Preview the data\n",
    "LIST  @MANAGE_DB.EXTERNAL_STAGES.PARQUETSTAGE;   \n",
    "    \n",
    "SELECT * FROM @MANAGE_DB.EXTERNAL_STAGES.PARQUETSTAGE;\n",
    "\n",
    "-- File format in Queries\n",
    "CREATE OR REPLACE STAGE MANAGE_DB.EXTERNAL_STAGES.PARQUETSTAGE\n",
    "    url = 's3://snowflakeparquetdemo'  ;\n",
    "    \n",
    "SELECT * \n",
    "FROM @MANAGE_DB.EXTERNAL_STAGES.PARQUETSTAGE\n",
    "(file_format => 'MANAGE_DB.FILE_FORMATS.PARQUET_FORMAT');\n",
    "\"\"\""
   ]
  },
  {
   "cell_type": "markdown",
   "metadata": {},
   "source": [
    "Parquet Data 2\n"
   ]
  },
  {
   "cell_type": "code",
   "execution_count": null,
   "metadata": {},
   "outputs": [],
   "source": [
    "\"\"\"-- Adding metadata\n",
    "SELECT \n",
    "$1:__index_level_0__::int as index_level,\n",
    "$1:cat_id::VARCHAR(50) as category,\n",
    "DATE($1:date::int ) as Date,\n",
    "$1:\"dept_id\"::VARCHAR(50) as Dept_ID,\n",
    "$1:\"id\"::VARCHAR(50) as ID,\n",
    "$1:\"item_id\"::VARCHAR(50) as Item_ID,\n",
    "$1:\"state_id\"::VARCHAR(50) as State_ID,\n",
    "$1:\"store_id\"::VARCHAR(50) as Store_ID,\n",
    "$1:\"value\"::int as value,\n",
    "METADATA$FILENAME as FILENAME,\n",
    "METADATA$FILE_ROW_NUMBER as ROWNUMBER,\n",
    "TO_TIMESTAMP_NTZ(current_timestamp) as LOAD_DATE\n",
    "FROM @MANAGE_DB.EXTERNAL_STAGES.PARQUETSTAGE;\n",
    "\n",
    "-- Create destination table\n",
    "CREATE OR REPLACE TABLE OUR_FIRST_DB.PUBLIC.PARQUET_DATA (\n",
    "    ROW_NUMBER int,\n",
    "    index_level int,\n",
    "    cat_id VARCHAR(50),\n",
    "    date date,\n",
    "    dept_id VARCHAR(50),\n",
    "    id VARCHAR(50),\n",
    "    item_id VARCHAR(50),\n",
    "    state_id VARCHAR(50),\n",
    "    store_id VARCHAR(50),\n",
    "    value int,\n",
    "    Load_date timestamp default TO_TIMESTAMP_NTZ(current_timestamp));\n",
    "\n",
    "-- Load the parquet data\n",
    "COPY INTO OUR_FIRST_DB.PUBLIC.PARQUET_DATA\n",
    "    FROM (SELECT \n",
    "            METADATA$FILE_ROW_NUMBER,\n",
    "            $1:__index_level_0__::int,\n",
    "            $1:cat_id::VARCHAR(50),\n",
    "            DATE($1:date::int ),\n",
    "            $1:\"dept_id\"::VARCHAR(50),\n",
    "            $1:\"id\"::VARCHAR(50),\n",
    "            $1:\"item_id\"::VARCHAR(50),\n",
    "            $1:\"state_id\"::VARCHAR(50),\n",
    "            $1:\"store_id\"::VARCHAR(50),\n",
    "            $1:\"value\"::int,\n",
    "            TO_TIMESTAMP_NTZ(current_timestamp)\n",
    "        FROM @MANAGE_DB.EXTERNAL_STAGES.PARQUETSTAGE);\n",
    "\"\"\""
   ]
  }
 ],
 "metadata": {
  "language_info": {
   "name": "python"
  }
 },
 "nbformat": 4,
 "nbformat_minor": 2
}
