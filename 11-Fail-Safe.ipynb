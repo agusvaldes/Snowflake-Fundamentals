{
 "cells": [
  {
   "cell_type": "markdown",
   "metadata": {},
   "source": [
    "## Chapter 11: Fail-Safe Measures in Snowflake"
   ]
  },
  {
   "cell_type": "markdown",
   "metadata": {},
   "source": [
    "This notebook delves into fail-safe mechanisms within Snowflake, focusing on storage usage at both account and table levels. The initial queries provide a detailed account of storage metrics, including STORAGE, STAGE, and FAILSAFE usage, presented in a user-friendly format.\n",
    "\n",
    "The subsequent analyses zoom in on table-level storage usage, emphasizing key metrics like ACTIVE_BYTES, TIME_TRAVEL_BYTES, and FAILSAFE_BYTES. These metrics offer insights into the storage consumed by active data, historical versions, and fail-safe storage, respectively.\n",
    "\n",
    "Understanding and monitoring storage consumption at these levels is crucial for implementing effective fail-safe strategies and ensuring the reliability of data in Snowflake."
   ]
  },
  {
   "cell_type": "code",
   "execution_count": null,
   "metadata": {
    "vscode": {
     "languageId": "plaintext"
    }
   },
   "outputs": [],
   "source": [
    "-- Storage usage on account level\n",
    "SELECT * FROM SNOWFLAKE.ACCOUNT_USAGE.STORAGE_USAGE ORDER BY USAGE_DATE DESC;\n",
    "\n",
    "-- Storage usage on account level formatted\n",
    "SELECT \tUSAGE_DATE, \n",
    "\t\tSTORAGE_BYTES / (1024*1024*1024) AS STORAGE_GB,  \n",
    "\t\tSTAGE_BYTES / (1024*1024*1024) AS STAGE_GB,\n",
    "\t\tFAILSAFE_BYTES / (1024*1024*1024) AS FAILSAFE_GB\n",
    "FROM SNOWFLAKE.ACCOUNT_USAGE.STORAGE_USAGE ORDER BY USAGE_DATE DESC;\n",
    "\n",
    "-- Storage usage on table level\n",
    "SELECT * FROM SNOWFLAKE.ACCOUNT_USAGE.TABLE_STORAGE_METRICS;\n",
    "\n",
    "-- Storage usage on table level formatted\n",
    "SELECT \tID, \n",
    "\t\tTABLE_NAME, \n",
    "\t\tTABLE_SCHEMA,\n",
    "\t\tACTIVE_BYTES / (1024*1024*1024) AS STORAGE_USED_GB,\n",
    "\t\tTIME_TRAVEL_BYTES / (1024*1024*1024) AS TIME_TRAVEL_STORAGE_USED_GB,\n",
    "\t\tFAILSAFE_BYTES / (1024*1024*1024) AS FAILSAFE_STORAGE_USED_GB\n",
    "FROM SNOWFLAKE.ACCOUNT_USAGE.TABLE_STORAGE_METRICS\n",
    "ORDER BY FAILSAFE_STORAGE_USED_GB DESC;"
   ]
  }
 ],
 "metadata": {
  "language_info": {
   "name": "python"
  }
 },
 "nbformat": 4,
 "nbformat_minor": 2
}
