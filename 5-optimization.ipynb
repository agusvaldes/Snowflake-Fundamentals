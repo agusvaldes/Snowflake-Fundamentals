{
 "cells": [
  {
   "cell_type": "markdown",
   "metadata": {},
   "source": [
    "## Chapter 5: Optimization\n"
   ]
  },
  {
   "cell_type": "markdown",
   "metadata": {},
   "source": [
    "Usage of Dedicated Virtual Warehouse"
   ]
  },
  {
   "cell_type": "code",
   "execution_count": null,
   "metadata": {},
   "outputs": [],
   "source": [
    "\"\"\"-- Create warehouse for Data Scientists & DBA\n",
    "\n",
    "-- Data Scientists\n",
    "CREATE WAREHOUSE DS_WH \n",
    "WITH WAREHOUSE_SIZE = 'SMALL'\n",
    "WAREHOUSE_TYPE = 'STANDARD' \n",
    "AUTO_SUSPEND = 300 \n",
    "AUTO_RESUME = TRUE \n",
    "MIN_CLUSTER_COUNT = 1 \n",
    "MAX_CLUSTER_COUNT = 1 \n",
    "SCALING_POLICY = 'STANDARD';\n",
    "\n",
    "-- DBA\n",
    "CREATE WAREHOUSE DBA_WH \n",
    "WITH WAREHOUSE_SIZE = 'XSMALL'\n",
    "WAREHOUSE_TYPE = 'STANDARD' \n",
    "AUTO_SUSPEND = 300 \n",
    "AUTO_RESUME = TRUE \n",
    "MIN_CLUSTER_COUNT = 1 \n",
    "MAX_CLUSTER_COUNT = 1 \n",
    "SCALING_POLICY = 'STANDARD';\n",
    "\n",
    "-- Create role for Data Scientists & DBAs\n",
    "\n",
    "CREATE ROLE DATA_SCIENTIST;\n",
    "GRANT USAGE ON WAREHOUSE DS_WH TO ROLE DATA_SCIENTIST;\n",
    "\n",
    "CREATE ROLE DBA;\n",
    "GRANT USAGE ON WAREHOUSE DBA_WH TO ROLE DBA;\n",
    "\n",
    "-- Setting up users with roles\n",
    "\n",
    "-- Data Scientists\n",
    "CREATE USER DS1 PASSWORD = 'DS1' LOGIN_NAME = 'DS1' DEFAULT_ROLE='DATA_SCIENTIST' DEFAULT_WAREHOUSE = 'DS_WH'  MUST_CHANGE_PASSWORD = FALSE;\n",
    "CREATE USER DS2 PASSWORD = 'DS2' LOGIN_NAME = 'DS2' DEFAULT_ROLE='DATA_SCIENTIST' DEFAULT_WAREHOUSE = 'DS_WH'  MUST_CHANGE_PASSWORD = FALSE;\n",
    "CREATE USER DS3 PASSWORD = 'DS3' LOGIN_NAME = 'DS3' DEFAULT_ROLE='DATA_SCIENTIST' DEFAULT_WAREHOUSE = 'DS_WH'  MUST_CHANGE_PASSWORD = FALSE;\n",
    "\n",
    "GRANT ROLE DATA_SCIENTIST TO USER DS1;\n",
    "GRANT ROLE DATA_SCIENTIST TO USER DS2;\n",
    "GRANT ROLE DATA_SCIENTIST TO USER DS3;\n",
    "\n",
    "-- DBAs\n",
    "CREATE USER DBA1 PASSWORD = 'DBA1' LOGIN_NAME = 'DBA1' DEFAULT_ROLE='DBA' DEFAULT_WAREHOUSE = 'DBA_WH'  MUST_CHANGE_PASSWORD = FALSE;\n",
    "CREATE USER DBA2 PASSWORD = 'DBA2' LOGIN_NAME = 'DBA2' DEFAULT_ROLE='DBA' DEFAULT_WAREHOUSE = 'DBA_WH'  MUST_CHANGE_PASSWORD = FALSE;\n",
    "\n",
    "GRANT ROLE DBA TO USER DBA1;\n",
    "GRANT ROLE DBA TO USER DBA2;\n",
    "\n",
    "-- Drop objects\n",
    "\n",
    "DROP USER DBA1;\n",
    "DROP USER DBA2;\n",
    "\n",
    "DROP USER DS1;\n",
    "DROP USER DS2;\n",
    "DROP USER DS3;\n",
    "\n",
    "DROP ROLE DATA_SCIENTIST;\n",
    "DROP ROLE DBA;\n",
    "\n",
    "DROP WAREHOUSE DS_WH;\n",
    "DROP WAREHOUSE DBA_WH;\n",
    "\"\"\""
   ]
  },
  {
   "cell_type": "markdown",
   "metadata": {},
   "source": [
    "Scaling Out"
   ]
  },
  {
   "cell_type": "code",
   "execution_count": null,
   "metadata": {},
   "outputs": [],
   "source": [
    "\"\"\"SELECT * FROM SNOWFLAKE_SAMPLE_DATA.TPCDS_SF100TCL.WEB_SITE T1\n",
    "CROSS JOIN SNOWFLAKE_SAMPLE_DATA.TPCDS_SF100TCL.WEB_SITE T2\n",
    "CROSS JOIN SNOWFLAKE_SAMPLE_DATA.TPCDS_SF100TCL.WEB_SITE T3\n",
    "CROSS JOIN (SELECT TOP 57 * FROM SNOWFLAKE_SAMPLE_DATA.TPCDS_SF100TCL.WEB_SITE)  T4;\"\"\""
   ]
  },
  {
   "cell_type": "markdown",
   "metadata": {},
   "source": [
    "Caching"
   ]
  },
  {
   "cell_type": "code",
   "execution_count": null,
   "metadata": {},
   "outputs": [],
   "source": [
    "\"\"\"SELECT AVG(C_BIRTH_YEAR) FROM SNOWFLAKE_SAMPLE_DATA.TPCDS_SF100TCL.CUSTOMER;\"\"\""
   ]
  },
  {
   "cell_type": "markdown",
   "metadata": {},
   "source": [
    "Clustering"
   ]
  },
  {
   "cell_type": "code",
   "execution_count": null,
   "metadata": {},
   "outputs": [],
   "source": [
    "\"\"\"-- Publicly accessible staging area    \n",
    "\n",
    "CREATE OR REPLACE STAGE MANAGE_DB.external_stages.aws_stage\n",
    "    url='s3://bucketsnowflakes3';\n",
    "\n",
    "-- List files in stage\n",
    "\n",
    "LIST @MANAGE_DB.external_stages.aws_stage;\n",
    "\n",
    "-- Load data using copy command\n",
    "\n",
    "COPY INTO OUR_FIRST_DB.PUBLIC.ORDERS\n",
    "    FROM @MANAGE_DB.external_stages.aws_stage\n",
    "    file_format= (type = csv field_delimiter=',' skip_header=1)\n",
    "    pattern='.*OrderDetails.*';\n",
    "    \n",
    "-- Create table\n",
    "\n",
    "CREATE OR REPLACE TABLE ORDERS_CACHING (\n",
    "ORDER_ID\tVARCHAR(30)\n",
    ",AMOUNT\tNUMBER(38,0)\n",
    ",PROFIT\tNUMBER(38,0)\n",
    ",QUANTITY\tNUMBER(38,0)\n",
    ",CATEGORY\tVARCHAR(30)\n",
    ",SUBCATEGORY\tVARCHAR(30)\n",
    ",DATE DATE)   ; \n",
    "\n",
    "-- Insert into ORDERS_CACHING\n",
    "\n",
    "INSERT INTO ORDERS_CACHING \n",
    "SELECT\n",
    "t1.ORDER_ID\n",
    ",t1.AMOUNT\t\n",
    ",t1.PROFIT\t\n",
    ",t1.QUANTITY\t\n",
    ",t1.CATEGORY\t\n",
    ",t1.SUBCATEGORY\t\n",
    ",DATE(UNIFORM(1500000000,1700000000,(RANDOM())))\n",
    "FROM ORDERS t1\n",
    "CROSS JOIN (SELECT * FROM ORDERS) t2\n",
    "CROSS JOIN (SELECT TOP 100 * FROM ORDERS) t3;\n",
    "\n",
    "-- Query Performance before Cluster Key\n",
    "\n",
    "SELECT * FROM ORDERS_CACHING  WHERE DATE = '2020-06-09';\n",
    "\n",
    "-- Adding Cluster Key & Compare the result\n",
    "\n",
    "ALTER TABLE ORDERS_CACHING CLUSTER BY ( DATE ) ;\n",
    "\n",
    "SELECT * FROM ORDERS_CACHING  WHERE DATE = '2020-01-05';\n",
    "\n",
    "-- Not ideal clustering & adding a different Cluster Key using function\n",
    "\n",
    "SELECT * FROM ORDERS_CACHING  WHERE MONTH(DATE)=11;\n",
    "\n",
    "ALTER TABLE ORDERS_CACHING CLUSTER BY ( MONTH(DATE) );\n",
    "\"\"\""
   ]
  }
 ],
 "metadata": {
  "language_info": {
   "name": "python"
  }
 },
 "nbformat": 4,
 "nbformat_minor": 2
}
