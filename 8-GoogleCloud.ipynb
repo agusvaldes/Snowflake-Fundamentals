{
 "cells": [
  {
   "cell_type": "markdown",
   "metadata": {},
   "source": [
    "## Chapter 8: GCP Integration with Snowflake"
   ]
  },
  {
   "cell_type": "markdown",
   "metadata": {},
   "source": [
    "Create Integration Object\n"
   ]
  },
  {
   "cell_type": "code",
   "execution_count": null,
   "metadata": {
    "vscode": {
     "languageId": "plaintext"
    }
   },
   "outputs": [],
   "source": [
    "-- create integration object that contains the access information\n",
    "CREATE STORAGE INTEGRATION gcp_integration\n",
    "  TYPE = EXTERNAL_STAGE\n",
    "  STORAGE_PROVIDER = GCS\n",
    "  ENABLED = TRUE\n",
    "  STORAGE_ALLOWED_LOCATIONS = ('gcs://bucket/path', 'gcs://bucket/path2');\n",
    "  \n",
    "-- Describe integration object to provide access\n",
    "DESC STORAGE integration gcp_integration;\n"
   ]
  },
  {
   "cell_type": "markdown",
   "metadata": {},
   "source": [
    "Create Stage\n"
   ]
  },
  {
   "cell_type": "code",
   "execution_count": null,
   "metadata": {
    "vscode": {
     "languageId": "plaintext"
    }
   },
   "outputs": [],
   "source": [
    "-- create file format\n",
    "create or replace file format demo_db.public.fileformat_gcp\n",
    "    TYPE = CSV\n",
    "    FIELD_DELIMITER = ','\n",
    "    SKIP_HEADER = 1;\n",
    "\n",
    "-- create stage object\n",
    "create or replace stage demo_db.public.stage_gcp\n",
    "    STORAGE_INTEGRATION = gcp_integration\n",
    "    URL = 'gcs://snowflakebucketgcp'\n",
    "    FILE_FORMAT = fileformat_gcp;\n",
    "\n",
    "LIST @demo_db.public.stage_gcp;\n",
    "\n"
   ]
  },
  {
   "cell_type": "markdown",
   "metadata": {},
   "source": [
    "Query Files & Load Data\n"
   ]
  },
  {
   "cell_type": "code",
   "execution_count": null,
   "metadata": {
    "vscode": {
     "languageId": "plaintext"
    }
   },
   "outputs": [],
   "source": [
    "--query files\n",
    "SELECT \n",
    "$1,$2,$3,$4,$5,$6,$7,$8,$9,$10,$11,\n",
    "$12,$13,$14,$15,$16,$17,$18,$19,$20\n",
    "FROM @demo_db.public.stage_gcp;\n",
    "\n",
    "create or replace table happiness (\n",
    "    country_name varchar,\n",
    "    regional_indicator varchar,\n",
    "    ladder_score number(4,3),\n",
    "    standard_error number(4,3),\n",
    "    upperwhisker number(4,3),\n",
    "    lowerwhisker number(4,3),\n",
    "    logged_gdp number(5,3),\n",
    "    social_support number(4,3),\n",
    "    healthy_life_expectancy number(5,3),\n",
    "    freedom_to_make_life_choices number(4,3),\n",
    "    generosity number(4,3),\n",
    "    perceptions_of_corruption number(4,3),\n",
    "    ladder_score_in_dystopia number(4,3),\n",
    "    explained_by_log_gpd_per_capita number(4,3),\n",
    "    explained_by_social_support number(4,3),\n",
    "    explained_by_healthy_life_expectancy number(4,3),\n",
    "    explained_by_freedom_to_make_life_choices number(4,3),\n",
    "    explained_by_generosity number(4,3),\n",
    "    explained_by_perceptions_of_corruption number(4,3),\n",
    "    dystopia_residual number (4,3));\n",
    "    \n",
    "COPY INTO HAPPINESS\n",
    "FROM @demo_db.public.stage_gcp;\n",
    "\n",
    "SELECT * FROM HAPPINESS;\n"
   ]
  },
  {
   "cell_type": "markdown",
   "metadata": {},
   "source": [
    "Unload Data\n"
   ]
  },
  {
   "cell_type": "code",
   "execution_count": null,
   "metadata": {
    "vscode": {
     "languageId": "plaintext"
    }
   },
   "outputs": [],
   "source": [
    "------- Unload data -----\n",
    "USE ROLE ACCOUNTADMIN;\n",
    "USE DATABASE DEMO_DB;\n",
    "\n",
    "\n",
    "-- create integration object that contains the access information\n",
    "CREATE STORAGE INTEGRATION gcp_integration\n",
    "  TYPE = EXTERNAL_STAGE\n",
    "  STORAGE_PROVIDER = GCS\n",
    "  ENABLED = TRUE\n",
    "  STORAGE_ALLOWED_LOCATIONS = ('gcs://snowflakebucketgcp', 'gcs://snowflakebucketgcpjson');\n",
    "  \n",
    "  \n",
    "-- create file format\n",
    "create or replace file format demo_db.public.fileformat_gcp\n",
    "    TYPE = CSV\n",
    "    FIELD_DELIMITER = ','\n",
    "    SKIP_HEADER = 1;\n",
    "\n",
    "-- create stage object\n",
    "create or replace stage demo_db.public.stage_gcp\n",
    "    STORAGE_INTEGRATION = gcp_integration\n",
    "    URL = 'gcs://snowflakebucketgcp/csv_happiness'\n",
    "    FILE_FORMAT = fileformat_gcp;\n",
    "\n",
    "ALTER STORAGE INTEGRATION gcp_integration\n",
    "SET  storage_allowed_locations=('gcs://snowflakebucketgcp', 'gcs://snowflakebucketgcpjson');\n",
    "\n",
    "SELECT * FROM HAPPINESS;\n",
    "\n",
    "COPY INTO @stage_gcp\n",
    "FROM\n",
    "HAPPINESS;\n"
   ]
  }
 ],
 "metadata": {
  "language_info": {
   "name": "python"
  }
 },
 "nbformat": 4,
 "nbformat_minor": 2
}
