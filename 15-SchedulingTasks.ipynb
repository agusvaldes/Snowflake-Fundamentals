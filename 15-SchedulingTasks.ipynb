{
 "cells": [
  {
   "cell_type": "markdown",
   "metadata": {},
   "source": [
    "## Chapter 15: Scheduling Tasks"
   ]
  },
  {
   "cell_type": "markdown",
   "metadata": {},
   "source": [
    "#### This chapter covers the creation and management of scheduled tasks in Snowflake. It introduces the creation of transient databases, task scheduling using both time-based and CRON expressions, and the organization of tasks into hierarchical structures. The chapter also explores tasks involving stored procedures and concludes with insights into monitoring task history."
   ]
  },
  {
   "cell_type": "markdown",
   "metadata": {},
   "source": [
    "### Creating Tasks"
   ]
  },
  {
   "cell_type": "markdown",
   "metadata": {},
   "source": [
    "#### Creating a Transient Database and Table\n"
   ]
  },
  {
   "cell_type": "code",
   "execution_count": null,
   "metadata": {
    "vscode": {
     "languageId": "plaintext"
    }
   },
   "outputs": [],
   "source": [
    "CREATE OR REPLACE TRANSIENT DATABASE TASK_DB;\n",
    "\n",
    "CREATE OR REPLACE TABLE CUSTOMERS (\n",
    "    CUSTOMER_ID INT AUTOINCREMENT START = 1 INCREMENT = 1,\n",
    "    FIRST_NAME VARCHAR(40) DEFAULT 'JENNIFER',\n",
    "    CREATE_DATE DATE);\n"
   ]
  },
  {
   "cell_type": "markdown",
   "metadata": {},
   "source": [
    "#### Creating a Task\n"
   ]
  },
  {
   "cell_type": "code",
   "execution_count": null,
   "metadata": {
    "vscode": {
     "languageId": "plaintext"
    }
   },
   "outputs": [],
   "source": [
    "CREATE OR REPLACE TASK CUSTOMER_INSERT\n",
    "    WAREHOUSE = COMPUTE_WH\n",
    "    SCHEDULE = '1 MINUTE'\n",
    "    AS \n",
    "    INSERT INTO CUSTOMERS(CREATE_DATE) VALUES(CURRENT_TIMESTAMP);\n"
   ]
  },
  {
   "cell_type": "markdown",
   "metadata": {},
   "source": [
    "#### Task Management\n"
   ]
  },
  {
   "cell_type": "code",
   "execution_count": null,
   "metadata": {
    "vscode": {
     "languageId": "plaintext"
    }
   },
   "outputs": [],
   "source": [
    "SHOW TASKS;\n",
    "\n",
    "ALTER TASK CUSTOMER_INSERT RESUME;\n",
    "ALTER TASK CUSTOMER_INSERT SUSPEND;\n"
   ]
  },
  {
   "cell_type": "markdown",
   "metadata": {},
   "source": [
    "### Using CRON\n"
   ]
  },
  {
   "cell_type": "markdown",
   "metadata": {},
   "source": [
    "#### Using CRON Expressions in Task Scheduling\n"
   ]
  },
  {
   "cell_type": "code",
   "execution_count": null,
   "metadata": {
    "vscode": {
     "languageId": "plaintext"
    }
   },
   "outputs": [],
   "source": [
    "CREATE OR REPLACE TASK CUSTOMER_INSERT\n",
    "    WAREHOUSE = COMPUTE_WH\n",
    "    SCHEDULE = 'USING CRON 0 7,10 * * 5L UTC'\n",
    "    AS \n",
    "    INSERT INTO CUSTOMERS(CREATE_DATE) VALUES(CURRENT_TIMESTAMP);\n"
   ]
  },
  {
   "cell_type": "markdown",
   "metadata": {},
   "source": [
    "#### CRON Examples\n"
   ]
  },
  {
   "cell_type": "code",
   "execution_count": null,
   "metadata": {
    "vscode": {
     "languageId": "plaintext"
    }
   },
   "outputs": [],
   "source": [
    "SCHEDULE = 'USING CRON * * * * * UTC';  -- Every minute\n",
    "\n",
    "SCHEDULE = 'USING CRON 0 6 * * * UTC';  -- Every day at 6am UTC timezone\n",
    "\n",
    "SCHEDULE = 'USING CRON 0 9-17 * * SUN America/Los_Angeles';  -- Every hour starting at 9 AM and ending at 5 PM on Sundays\n"
   ]
  },
  {
   "cell_type": "markdown",
   "metadata": {},
   "source": [
    "### Creating a Tree of Tasks\n"
   ]
  },
  {
   "cell_type": "markdown",
   "metadata": {},
   "source": [
    "#### Creating a Tree of Tasks\n"
   ]
  },
  {
   "cell_type": "code",
   "execution_count": null,
   "metadata": {
    "vscode": {
     "languageId": "plaintext"
    }
   },
   "outputs": [],
   "source": [
    "USE TASK_DB;\n",
    "\n",
    "SHOW TASKS;\n",
    "\n",
    "CREATE OR REPLACE TABLE CUSTOMERS2 (\n",
    "    CUSTOMER_ID INT,\n",
    "    FIRST_NAME VARCHAR(40),\n",
    "    CREATE_DATE DATE);\n",
    "\n",
    "CREATE OR REPLACE TASK CUSTOMER_INSERT2\n",
    "    WAREHOUSE = COMPUTE_WH\n",
    "    AFTER CUSTOMER_INSERT\n",
    "    AS \n",
    "    INSERT INTO CUSTOMERS2 SELECT * FROM CUSTOMERS;\n",
    "\n",
    "CREATE OR REPLACE TABLE CUSTOMERS3 (\n",
    "    CUSTOMER_ID INT,\n",
    "    FIRST_NAME VARCHAR(40),\n",
    "    CREATE_DATE DATE,\n",
    "    INSERT_DATE DATE DEFAULT DATE(CURRENT_TIMESTAMP));\n",
    "\n",
    "CREATE OR REPLACE TASK CUSTOMER_INSERT3\n",
    "    WAREHOUSE = COMPUTE_WH\n",
    "    AFTER CUSTOMER_INSERT2\n",
    "    AS \n",
    "    INSERT INTO CUSTOMERS3 (CUSTOMER_ID,FIRST_NAME,CREATE_DATE) SELECT * FROM CUSTOMERS2;\n",
    "\n",
    "SHOW TASKS;\n",
    "\n",
    "ALTER TASK CUSTOMER_INSERT SET SCHEDULE = '1 MINUTE';\n",
    "\n",
    "ALTER TASK CUSTOMER_INSERT RESUME;\n",
    "ALTER TASK CUSTOMER_INSERT2 RESUME;\n",
    "ALTER TASK CUSTOMER_INSERT3 RESUME;\n"
   ]
  },
  {
   "cell_type": "markdown",
   "metadata": {},
   "source": [
    "### Task with Stored Procedure\n"
   ]
  },
  {
   "cell_type": "markdown",
   "metadata": {},
   "source": [
    "#### Creating a Task with a Stored Procedure\n"
   ]
  },
  {
   "cell_type": "code",
   "execution_count": null,
   "metadata": {
    "vscode": {
     "languageId": "plaintext"
    }
   },
   "outputs": [],
   "source": [
    "USE TASK_DB;\n",
    "\n",
    "SELECT * FROM CUSTOMERS;\n",
    "\n",
    "CREATE OR REPLACE PROCEDURE CUSTOMERS_INSERT_PROCEDURE (CREATE_DATE varchar)\n",
    "    RETURNS STRING NOT NULL\n",
    "    LANGUAGE JAVASCRIPT\n",
    "    AS\n",
    "        $$\n",
    "        var sql_command = 'INSERT INTO CUSTOMERS(CREATE_DATE) VALUES(:1);'\n",
    "        snowflake.execute(\n",
    "            {\n",
    "            sqlText: sql_command,\n",
    "            binds: [CREATE_DATE]\n",
    "            });\n",
    "        return \"Successfully executed.\";\n",
    "        $$;\n"
   ]
  },
  {
   "cell_type": "markdown",
   "metadata": {},
   "source": [
    "### Task History\n"
   ]
  },
  {
   "cell_type": "markdown",
   "metadata": {},
   "source": [
    "#### Viewing Task History\n"
   ]
  },
  {
   "cell_type": "code",
   "execution_count": null,
   "metadata": {
    "vscode": {
     "languageId": "plaintext"
    }
   },
   "outputs": [],
   "source": [
    "SHOW TASKS;\n",
    "\n",
    "USE DEMO_DB;\n",
    "\n",
    "-- Use the table function \"TASK_HISTORY()\"\n",
    "SELECT *\n",
    "FROM TABLE(INFORMATION_SCHEMA.TASK_HISTORY())\n",
    "ORDER BY SCHEDULED_TIME DESC;\n",
    "\n",
    "-- See results for a specific Task in a given time\n",
    "SELECT *\n",
    "FROM TABLE(INFORMATION_SCHEMA.TASK_HISTORY(\n",
    "    SCHEDULED_TIME_RANGE_START => DATEADD('HOUR', -4, CURRENT_TIMESTAMP()),\n",
    "    RESULT_LIMIT => 5,\n",
    "    TASK_NAME => 'CUSTOMER_INSERT2'));\n"
   ]
  }
 ],
 "metadata": {
  "language_info": {
   "name": "python"
  }
 },
 "nbformat": 4,
 "nbformat_minor": 2
}
