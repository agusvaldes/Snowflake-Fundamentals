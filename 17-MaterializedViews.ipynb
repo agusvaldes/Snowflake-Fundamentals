{
 "cells": [
  {
   "cell_type": "markdown",
   "metadata": {},
   "source": [
    "## Chapter 17: Materialized Views in Snowflake\n"
   ]
  },
  {
   "cell_type": "markdown",
   "metadata": {},
   "source": [
    "### In this chapter, the functionality of Materialized Views in Snowflake was explored. The chapter commenced by disabling global caching to ensure a fair test environment. A table was prepared in the TPCH_SF100 schema, and a sample statement view was demonstrated. Subsequently, a Materialized View named ORDERS_MV was created to aggregate data. The chapter delved into querying and updating data, showcasing the impact on both the original and materialized views. To demonstrate efficiency, caching was re-enabled for comparison. The use of Materialized Views in Snowflake proves beneficial for optimizing query performance by pre-aggregating and storing results.\n"
   ]
  },
  {
   "cell_type": "markdown",
   "metadata": {},
   "source": [
    "#### Materialized Views and Data Manipulation\n"
   ]
  },
  {
   "cell_type": "code",
   "execution_count": null,
   "metadata": {
    "vscode": {
     "languageId": "plaintext"
    }
   },
   "outputs": [],
   "source": [
    "-- Remove caching just to have a fair test -- Part 1\n",
    "ALTER SESSION SET USE_CACHED_RESULT=FALSE; -- disable global caching\n",
    "ALTER warehouse compute_wh suspend;\n",
    "ALTER warehouse compute_wh resume;\n",
    "\n",
    "-- Prepare table\n",
    "CREATE OR REPLACE TRANSIENT DATABASE ORDERS;\n",
    "CREATE OR REPLACE SCHEMA TPCH_SF100;\n",
    "CREATE OR REPLACE TABLE TPCH_SF100.ORDERS AS SELECT * FROM SNOWFLAKE_SAMPLE_DATA.TPCH_SF100.ORDERS;\n",
    "\n",
    "-- Example statement view -- \n",
    "SELECT\n",
    "YEAR(O_ORDERDATE) AS YEAR,\n",
    "MAX(O_COMMENT) AS MAX_COMMENT,\n",
    "MIN(O_COMMENT) AS MIN_COMMENT,\n",
    "MAX(O_CLERK) AS MAX_CLERK,\n",
    "MIN(O_CLERK) AS MIN_CLERK\n",
    "FROM ORDERS.TPCH_SF100.ORDERS\n",
    "GROUP BY YEAR(O_ORDERDATE)\n",
    "ORDER BY YEAR(O_ORDERDATE);\n",
    "\n",
    "-- Create materialized view\n",
    "CREATE OR REPLACE MATERIALIZED VIEW ORDERS_MV\n",
    "AS \n",
    "SELECT\n",
    "YEAR(O_ORDERDATE) AS YEAR,\n",
    "MAX(O_COMMENT) AS MAX_COMMENT,\n",
    "MIN(O_COMMENT) AS MIN_COMMENT,\n",
    "MAX(O_CLERK) AS MAX_CLERK,\n",
    "MIN(O_CLERK) AS MIN_CLERK\n",
    "FROM ORDERS.TPCH_SF100.ORDERS\n",
    "GROUP BY YEAR(O_ORDERDATE);\n",
    "\n",
    "-- Query view\n",
    "SELECT * FROM ORDERS_MV ORDER BY YEAR;\n",
    "\n",
    "-- UPDATE or DELETE values\n",
    "UPDATE ORDERS SET O_CLERK='Clerk#99900000' WHERE O_ORDERDATE='1992-01-01';\n",
    "\n",
    "-- Test updated data --\n",
    "-- Example statement view -- \n",
    "SELECT\n",
    "YEAR(O_ORDERDATE) AS YEAR,\n",
    "MAX(O_COMMENT) AS MAX_COMMENT,\n",
    "MIN(O_COMMENT) AS MIN_COMMENT,\n",
    "MAX(O_CLERK) AS MAX_CLERK,\n",
    "MIN(O_CLERK) AS MIN_CLERK\n",
    "FROM ORDERS.TPCH_SF100.ORDERS\n",
    "GROUP BY YEAR(O_ORDERDATE)\n",
    "ORDER BY YEAR(O_ORDERDATE);\n",
    "\n",
    "-- Query view\n",
    "SELECT * FROM ORDERS_MV ORDER BY YEAR;\n",
    "\n",
    "-- Remove caching just to have a fair test -- Part 2\n",
    "ALTER SESSION SET USE_CACHED_RESULT=FALSE; -- disable global caching\n",
    "ALTER warehouse compute_wh suspend;\n",
    "ALTER warehouse compute_wh resume;\n",
    "\n",
    "-- Prepare table\n",
    "CREATE OR REPLACE TRANSIENT DATABASE ORDERS;\n",
    "CREATE OR REPLACE SCHEMA TPCH_SF100;\n",
    "CREATE OR REPLACE TABLE TPCH_SF100.ORDERS AS SELECT * FROM SNOWFLAKE_SAMPLE_DATA.TPCH_SF100.ORDERS;\n",
    "\n",
    "-- Example statement view -- \n",
    "SELECT\n",
    "YEAR(O_ORDERDATE) AS YEAR,\n",
    "MAX(O_COMMENT) AS MAX_COMMENT,\n",
    "MIN(O_COMMENT) AS MIN_COMMENT,\n",
    "MAX(O_CLERK) AS MAX_CLERK,\n",
    "MIN(O_CLERK) AS MIN_CLERK\n",
    "FROM ORDERS.TPCH_SF100.ORDERS\n",
    "GROUP BY YEAR(O_ORDERDATE)\n",
    "ORDER BY YEAR(O_ORDERDATE);\n",
    "\n",
    "-- Create materialized view\n",
    "CREATE OR REPLACE MATERIALIZED VIEW ORDERS_MV\n",
    "AS \n",
    "SELECT\n",
    "YEAR(O_ORDERDATE) AS YEAR,\n",
    "MAX(O_COMMENT) AS MAX_COMMENT,\n",
    "MIN(O_COMMENT) AS MIN_COMMENT,\n",
    "MAX(O_CLERK) AS MAX_CLERK,\n",
    "MIN(O_CLERK) AS MIN_CLERK\n",
    "FROM ORDERS.TPCH_SF100.ORDERS\n",
    "GROUP BY YEAR(O_ORDERDATE);\n",
    "\n",
    "-- Query view\n",
    "SELECT * FROM ORDERS_MV ORDER BY YEAR;\n",
    "\n",
    "-- UPDATE or DELETE values\n",
    "UPDATE ORDERS SET O_CLERK='Clerk#99900000' WHERE O_ORDERDATE='1992-01-01';\n",
    "\n",
    "-- Test updated data --\n",
    "-- Example statement view -- \n",
    "SELECT\n",
    "YEAR(O_ORDERDATE) AS YEAR,\n",
    "MAX(O_COMMENT) AS MAX_COMMENT,\n",
    "MIN(O_COMMENT) AS MIN_COMMENT,\n",
    "MAX(O_CLERK) AS MAX_CLERK,\n",
    "MIN(O_CLERK) AS MIN_CLERK\n",
    "FROM ORDERS.TPCH_SF100.ORDERS\n",
    "GROUP BY YEAR(O_ORDERDATE)\n",
    "ORDER BY YEAR(O_ORDERDATE);\n",
    "\n",
    "-- Query view\n",
    "SELECT * FROM ORDERS_MV ORDER BY YEAR;\n",
    "\n",
    "SHOW MATERIALIZED VIEWS;\n",
    "\n",
    "-- View materialized view refresh history\n",
    "SELECT * FROM TABLE(INFORMATION_SCHEMA.MATERIALIZED_VIEW_REFRESH_HISTORY());\n",
    "\n",
    "SHOW MATERIALIZED VIEWS;\n",
    "\n",
    "SELECT * FROM TABLE(INFORMATION_SCHEMA.MATERIALIZED_VIEW_REFRESH_HISTORY());\n"
   ]
  },
  {
   "cell_type": "markdown",
   "metadata": {},
   "source": [
    "### Summary\n"
   ]
  },
  {
   "cell_type": "markdown",
   "metadata": {},
   "source": [
    "#### In this chapter, the focus was on Materialized Views in Snowflake. The testing environment was standardized by disabling caching. A TPCH_SF100 schema was established, and the creation of a materialized view named ORDERS_MV was demonstrated for aggregating data efficiently. The impact of data updates on both the original and materialized views was explored, emphasizing the utility of materialized views for optimizing query performance. Re-enabling caching showcased the advantages of this feature in Snowflake. The chapter concluded with insights into monitoring materialized view refresh history for effective data management.\n",
    "\n",
    "\n",
    "\n",
    "\n"
   ]
  }
 ],
 "metadata": {
  "language_info": {
   "name": "python"
  }
 },
 "nbformat": 4,
 "nbformat_minor": 2
}
