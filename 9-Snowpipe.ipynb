{
 "cells": [
  {
   "cell_type": "markdown",
   "metadata": {},
   "source": [
    "## Chapter 9: Snowpipe - Automatic Data Ingestion in Snowflake"
   ]
  },
  {
   "cell_type": "markdown",
   "metadata": {},
   "source": [
    "### Setting up Stage and Pipe"
   ]
  },
  {
   "cell_type": "code",
   "execution_count": null,
   "metadata": {
    "vscode": {
     "languageId": "plaintext"
    }
   },
   "outputs": [],
   "source": [
    "// Create table first\n",
    "CREATE OR REPLACE TABLE OUR_FIRST_DB.PUBLIC.employees (\n",
    "  id INT,\n",
    "  first_name STRING,\n",
    "  last_name STRING,\n",
    "  email STRING,\n",
    "  location STRING,\n",
    "  department STRING\n",
    "  );\n",
    "    \n",
    "// Create file format object\n",
    "CREATE OR REPLACE file format MANAGE_DB.file_formats.csv_fileformat\n",
    "    type = csv\n",
    "    field_delimiter = ','\n",
    "    skip_header = 1\n",
    "    null_if = ('NULL','null')\n",
    "    empty_field_as_null = TRUE;\n",
    "    \n",
    " // Create stage object with integration object & file format object\n",
    "CREATE OR REPLACE stage MANAGE_DB.external_stages.csv_folder\n",
    "    URL = 's3://snowflakes3bucket123/csv/snowpipe'\n",
    "    STORAGE_INTEGRATION = s3_int\n",
    "    FILE_FORMAT = MANAGE_DB.file_formats.csv_fileformat;\n",
    "   \n",
    " // Create stage object with integration object & file format object\n",
    "LIST @MANAGE_DB.external_stages.csv_folder;\n",
    "\n",
    "// Create schema to keep things organized\n",
    "CREATE OR REPLACE SCHEMA MANAGE_DB.pipes;\n",
    "\n",
    "// Define pipe\n",
    "CREATE OR REPLACE pipe MANAGE_DB.pipes.employee_pipe\n",
    "auto_ingest = TRUE\n",
    "AS\n",
    "COPY INTO OUR_FIRST_DB.PUBLIC.employees\n",
    "FROM @MANAGE_DB.external_stages.csv_folder ;\n",
    "\n",
    "// Describe pipe\n",
    "DESC pipe employee_pipe;\n",
    "    \n",
    "SELECT * FROM OUR_FIRST_DB.PUBLIC.employees ;\n"
   ]
  },
  {
   "cell_type": "markdown",
   "metadata": {},
   "source": [
    "### Create Pipe\n"
   ]
  },
  {
   "cell_type": "code",
   "execution_count": null,
   "metadata": {
    "vscode": {
     "languageId": "plaintext"
    }
   },
   "outputs": [],
   "source": [
    "// Define pipe\n",
    "CREATE OR REPLACE pipe MANAGE_DB.pipes.employee_pipe\n",
    "auto_ingest = TRUE\n",
    "AS\n",
    "COPY INTO OUR_FIRST_DB.PUBLIC.employees\n",
    "FROM @MANAGE_DB.external_stages.csv_folder  ;\n",
    "\n",
    "// Describe pipe\n",
    "DESC pipe employee_pipe;\n",
    "    \n",
    "SELECT * FROM OUR_FIRST_DB.PUBLIC.employees ;"
   ]
  },
  {
   "cell_type": "markdown",
   "metadata": {},
   "source": [
    "### Handling Errors\n"
   ]
  },
  {
   "cell_type": "code",
   "execution_count": null,
   "metadata": {
    "vscode": {
     "languageId": "plaintext"
    }
   },
   "outputs": [],
   "source": [
    "// Create file format object\n",
    "CREATE OR REPLACE file format MANAGE_DB.file_formats.csv_fileformat\n",
    "    type = csv\n",
    "    field_delimiter = ','\n",
    "    skip_header = 1\n",
    "    null_if = ('NULL','null')\n",
    "    empty_field_as_null = TRUE;\n",
    "    \n",
    "SELECT * FROM OUR_FIRST_DB.PUBLIC.employees ;  \n",
    "\n",
    "ALTER PIPE employee_pipe refresh;\n",
    " \n",
    "// Validate pipe is actually working\n",
    "SELECT SYSTEM$PIPE_STATUS('employee_pipe');\n",
    "\n",
    "// Snowpipe error message\n",
    "SELECT * FROM TABLE(VALIDATE_PIPE_LOAD(\n",
    "    PIPE_NAME => 'MANAGE_DB.pipes.employee_pipe',\n",
    "    START_TIME => DATEADD(HOUR,-2,CURRENT_TIMESTAMP()));\n",
    "\n",
    "// COPY command history from table to see error massage\n",
    "SELECT * FROM TABLE (INFORMATION_SCHEMA.COPY_HISTORY(\n",
    "   table_name  =>  'OUR_FIRST_DB.PUBLIC.EMPLOYEES',\n",
    "   START_TIME =>DATEADD(HOUR,-2,CURRENT_TIMESTAMP()));"
   ]
  },
  {
   "cell_type": "markdown",
   "metadata": {},
   "source": [
    "### Manage Pipes\n"
   ]
  },
  {
   "cell_type": "code",
   "execution_count": null,
   "metadata": {
    "vscode": {
     "languageId": "plaintext"
    }
   },
   "outputs": [],
   "source": [
    "DESC pipe MANAGE_DB.pipes.employee_pipe;\n",
    "\n",
    "SHOW PIPES;\n",
    "\n",
    "SHOW PIPES like '%employee%';\n",
    "\n",
    "SHOW PIPES in database MANAGE_DB;\n",
    "\n",
    "SHOW PIPES in schema MANAGE_DB.pipes;\n",
    "\n",
    "SHOW PIPES like '%employee%' in Database MANAGE_DB;\n",
    "\n",
    "// Changing pipe (alter stage or file format)\n",
    "\n",
    "// Preparation table first\n",
    "CREATE OR REPLACE TABLE OUR_FIRST_DB.PUBLIC.employees2 (\n",
    "  id INT,\n",
    "  first_name STRING,\n",
    "  last_name STRING,\n",
    "  email STRING,\n",
    "  location STRING,\n",
    "  department STRING\n",
    "  );\n",
    "\n",
    "// Pause pipe\n",
    "ALTER PIPE MANAGE_DB.pipes.employee_pipe SET PIPE_EXECUTION_PAUSED = true;\n",
    " \n",
    "// Verify pipe is paused and has pendingFileCount 0 \n",
    "SELECT SYSTEM$PIPE_STATUS('MANAGE_DB.pipes.employee_pipe') ;\n",
    " \n",
    "// Recreate the pipe to change the COPY statement in the definition\n",
    "CREATE OR REPLACE pipe MANAGE_DB.pipes.employee_pipe\n",
    "auto_ingest = TRUE\n",
    "AS\n",
    "COPY INTO OUR_FIRST_DB.PUBLIC.employees2\n",
    "FROM @MANAGE_DB.external_stages.csv_folder ;\n",
    "\n",
    "ALTER PIPE  MANAGE_DB.pipes.employee_pipe refresh;\n",
    "\n",
    "// List files in stage\n",
    "LIST @MANAGE_DB.external_stages.csv_folder ;\n",
    "\n",
    "SELECT * FROM OUR_FIRST_DB.PUBLIC.employees2;\n",
    "\n",
    "// Reload files manually that where aleady in the bucket\n",
    "COPY INTO OUR_FIRST_DB.PUBLIC.employees2\n",
    "FROM @MANAGE_DB.external_stages.csv_folder;  \n",
    "\n",
    "// Resume pipe\n",
    "ALTER PIPE MANAGE_DB.pipes.employee_pipe SET PIPE_EXECUTION_PAUSED = false;\n",
    "\n",
    "// Verify pipe is running again\n",
    "SELECT SYSTEM$PIPE_STATUS('MANAGE_DB.pipes.employee_pipe') ;\n"
   ]
  },
  {
   "cell_type": "markdown",
   "metadata": {},
   "source": [
    "## Snowpipe for Azure\n"
   ]
  },
  {
   "cell_type": "code",
   "execution_count": null,
   "metadata": {
    "vscode": {
     "languageId": "plaintext"
    }
   },
   "outputs": [],
   "source": [
    "// Create notification Integration\n",
    "CREATE OR REPLACE NOTIFICATION INTEGRATION snowpipe_event\n",
    "  ENABLED = true\n",
    "  TYPE = QUEUE\n",
    "  NOTIFICATION_PROVIDER = AZURE_STORAGE_QUEUE\n",
    "  AZURE_STORAGE_QUEUE_PRIMARY_URI = 'https://<your-container-url>'\n",
    "  AZURE_TENANT_ID = '<your-tenant-id>';\n",
    "  \n",
    "// Register Integration\n",
    "DESC notification integration snowpipe_event;\n",
    "\n",
    "// Query file\n",
    "SELECT \n",
    "$1,\n",
    "$2,\n",
    "$3,\n",
    "$4,\n",
    "$5,\n",
    "$6,\n",
    "$7,\n",
    "$8,\n",
    "$9,\n",
    "$10,\n",
    "$11,\n",
    "$12,\n",
    "$13,\n",
    "$14,\n",
    "$15,\n",
    "$16,\n",
    "$17,\n",
    "$18,\n",
    "$19,\n",
    "$20\n",
    "FROM @snowpipe.public.stage_azure;\n",
    "\n",
    "// Create destination table\n",
    "create or replace table snowpipe.public.happiness (\n",
    "    country_name varchar,\n",
    "    regional_indicator varchar,\n",
    "    ladder_score number(4,3),\n",
    "    standard_error number(4,3),\n",
    "    upperwhisker number(4,3),\n",
    "    lowerwhisker number(4,3),\n",
    "    logged_gdp number(5,3),\n",
    "    social_support number(4,3),\n",
    "    healthy_life_expectancy number(5,3),\n",
    "    freedom_to_make_life_choices number(4,3),\n",
    "    generosity number(4,3),\n",
    "    perceptions_of_corruption number(4,3),\n",
    "    ladder_score_in_dystopia number(4,3),\n",
    "    explained_by_log_gpd_per_capita number(4,3),\n",
    "    explained_by_social_support number(4,3),\n",
    "    explained_by_healthy_life_expectancy number(4,3),\n",
    "    explained_by_freedom_to_make_life_choices number(4,3),\n",
    "    explained_by_generosity number(4,3),\n",
    "    explained_by_perceptions_of_corruption number(4,3),\n",
    "    dystopia_residual number (4,3));\n",
    "    \n",
    "COPY INTO HAPPINESS\n",
    "FROM @snowpipe.public.stage_azure;\n",
    "\n",
    "SELECT * FROM snowpipe.public.happiness;\n",
    "\n",
    "TRUNCATE TABLE snowpipe.public.happiness;\n",
    "\n",
    "// Create pipe\n",
    "create pipe azure_pipe\n",
    "  auto_ingest = true\n",
    "  integration = 'SNOWPIPE_EVENT'\n",
    "  as\n",
    "  copy into snowpipe.public.happiness\n",
    "  from @snowpipe.public.stage_azure;\n",
    " \n",
    "  SELECT SYSTEM$PIPE_STATUS( 'AZURE_PIPE' );\n"
   ]
  },
  {
   "cell_type": "markdown",
   "metadata": {},
   "source": [
    "### Create Stage and integration"
   ]
  },
  {
   "cell_type": "code",
   "execution_count": null,
   "metadata": {
    "vscode": {
     "languageId": "plaintext"
    }
   },
   "outputs": [],
   "source": [
    "CREATE OR REPLACE DATABASE SNOWPIPE;\n",
    "\n",
    "-- create integration object that contains the access information\n",
    "CREATE OR REPLACE STORAGE INTEGRATION azure_snowpipe_integration\n",
    "  TYPE = EXTERNAL_STAGE\n",
    "  STORAGE_PROVIDER = AZURE\n",
    "  ENABLED = TRUE\n",
    "  AZURE_TENANT_ID =  '<your-tenant-id>'\n",
    "  STORAGE_ALLOWED_LOCATIONS = ( 'https://<your-container-url>');\n",
    "\n",
    "  \n",
    "  \n",
    "-- Describe integration object to provide access\n",
    "DESC STORAGE integration azure_snowpipe_integration;\n",
    "\n",
    "---- Create file format & stage objects ----\n",
    "\n",
    "-- create file format\n",
    "\n",
    "create or replace file format snowpipe.public.fileformat_azure\n",
    "    TYPE = CSV\n",
    "    FIELD_DELIMITER = ','\n",
    "    SKIP_HEADER = 1;\n",
    "\n",
    "-- create stage object\n",
    "create or replace stage snowpipe.public.stage_azure\n",
    "    STORAGE_INTEGRATION = azure_snowpipe_integration\n",
    "    URL = 'https://<your-container-url>'\n",
    "    FILE_FORMAT = fileformat_azure;\n",
    "    \n",
    "\n",
    "-- list files\n",
    "LIST @snowpipe.public.stage_azure;"
   ]
  }
 ],
 "metadata": {
  "language_info": {
   "name": "python"
  }
 },
 "nbformat": 4,
 "nbformat_minor": 2
}
