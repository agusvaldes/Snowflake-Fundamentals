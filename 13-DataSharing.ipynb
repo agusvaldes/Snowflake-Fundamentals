{
 "cells": [
  {
   "cell_type": "markdown",
   "metadata": {},
   "source": [
    "## Chapter 13: Data Sharing in Snowflake\n"
   ]
  },
  {
   "cell_type": "markdown",
   "metadata": {},
   "source": [
    "### Using Data Sharing\n",
    "#### Creating a Database and Stage"
   ]
  },
  {
   "cell_type": "code",
   "execution_count": null,
   "metadata": {
    "vscode": {
     "languageId": "plaintext"
    }
   },
   "outputs": [],
   "source": [
    "CREATE OR REPLACE DATABASE DATA_S;\n",
    "\n",
    "CREATE OR REPLACE STAGE aws_stage\n",
    "    url='s3://bucketsnowflakes3';\n",
    "\n",
    "LIST @aws_stage;"
   ]
  },
  {
   "cell_type": "markdown",
   "metadata": {},
   "source": [
    "#### Creating and Loading Data into a Table\n"
   ]
  },
  {
   "cell_type": "code",
   "execution_count": null,
   "metadata": {
    "vscode": {
     "languageId": "plaintext"
    }
   },
   "outputs": [],
   "source": [
    "CREATE OR REPLACE TABLE ORDERS (\n",
    "    ORDER_ID VARCHAR(30),\n",
    "    AMOUNT NUMBER(38,0),\n",
    "    PROFIT NUMBER(38,0),\n",
    "    QUANTITY NUMBER(38,0),\n",
    "    CATEGORY VARCHAR(30),\n",
    "    SUBCATEGORY VARCHAR(30));\n",
    "\n",
    "COPY INTO ORDERS\n",
    "    FROM @MANAGE_DB.external_stages.aws_stage\n",
    "    file_format= (type = csv field_delimiter=',' skip_header=1)\n",
    "    pattern='.*OrderDetails.*';\n",
    "\n",
    "SELECT * FROM ORDERS;\n"
   ]
  },
  {
   "cell_type": "markdown",
   "metadata": {},
   "source": [
    "#### Creating a Share Object and Setting Up Grants\n"
   ]
  },
  {
   "cell_type": "code",
   "execution_count": null,
   "metadata": {
    "vscode": {
     "languageId": "plaintext"
    }
   },
   "outputs": [],
   "source": [
    "CREATE OR REPLACE SHARE ORDERS_SHARE;\n",
    "\n",
    "-- Setup Grants --\n",
    "GRANT USAGE ON DATABASE DATA_S TO SHARE ORDERS_SHARE; \n",
    "GRANT USAGE ON SCHEMA DATA_S.PUBLIC TO SHARE ORDERS_SHARE; \n",
    "GRANT SELECT ON TABLE DATA_S.PUBLIC.ORDERS TO SHARE ORDERS_SHARE; \n",
    "\n",
    "-- Validate Grants --\n",
    "SHOW GRANTS TO SHARE ORDERS_SHARE;\n"
   ]
  },
  {
   "cell_type": "markdown",
   "metadata": {},
   "source": [
    "#### Adding a Consumer Account\n"
   ]
  },
  {
   "cell_type": "code",
   "execution_count": null,
   "metadata": {
    "vscode": {
     "languageId": "plaintext"
    }
   },
   "outputs": [],
   "source": [
    "ALTER SHARE ORDERS_SHARE ADD ACCOUNT=<consumer-account-id>;\n"
   ]
  },
  {
   "cell_type": "markdown",
   "metadata": {},
   "source": [
    "#### Creating a Reader Account\n"
   ]
  },
  {
   "cell_type": "code",
   "execution_count": null,
   "metadata": {
    "vscode": {
     "languageId": "plaintext"
    }
   },
   "outputs": [],
   "source": [
    "-- Create Reader Account --\n",
    "CREATE MANAGED ACCOUNT tech_joy_account\n",
    "ADMIN_NAME = tech_joy_admin,\n",
    "ADMIN_PASSWORD = 'set-pwd',\n",
    "TYPE = READER;\n",
    "\n",
    "-- Make sure to have selected the role of accountadmin --\n",
    "\n",
    "-- Show accounts --\n",
    "SHOW MANAGED ACCOUNTS;\n",
    "\n",
    "-- Share the data -- \n",
    "ALTER SHARE ORDERS_SHARE \n",
    "ADD ACCOUNT = <reader-account-id>;\n",
    "\n",
    "ALTER SHARE ORDERS_SHARE \n",
    "ADD ACCOUNT =  <reader-account-id>\n",
    "SHARE_RESTRICTIONS=false;\n"
   ]
  },
  {
   "cell_type": "markdown",
   "metadata": {},
   "source": [
    "#### Creating a Database from Share and Validating Table Access\n"
   ]
  },
  {
   "cell_type": "code",
   "execution_count": null,
   "metadata": {
    "vscode": {
     "languageId": "plaintext"
    }
   },
   "outputs": [],
   "source": [
    "-- Create database from share --\n",
    "CREATE DATABASE DATA_SHARE_DB FROM SHARE <account_name_producer>.ORDERS_SHARE;\n",
    "\n",
    "-- Validate table access --\n",
    "SELECT * FROM  DATA_SHARE_DB.PUBLIC.ORDERS;\n"
   ]
  },
  {
   "cell_type": "markdown",
   "metadata": {},
   "source": [
    "#### Setting Up a Virtual Warehouse\n"
   ]
  },
  {
   "cell_type": "code",
   "execution_count": null,
   "metadata": {
    "vscode": {
     "languageId": "plaintext"
    }
   },
   "outputs": [],
   "source": [
    "-- Setup virtual warehouse --\n",
    "CREATE WAREHOUSE READ_WH WITH\n",
    "    WAREHOUSE_SIZE='X-SMALL'\n",
    "    AUTO_SUSPEND = 180\n",
    "    AUTO_RESUME = TRUE\n",
    "    INITIALLY_SUSPENDED = TRUE;\n"
   ]
  },
  {
   "cell_type": "markdown",
   "metadata": {},
   "source": [
    "#### Creating and Setting Up Users\n"
   ]
  },
  {
   "cell_type": "code",
   "execution_count": null,
   "metadata": {
    "vscode": {
     "languageId": "plaintext"
    }
   },
   "outputs": [],
   "source": [
    "-- Create and set up users --\n",
    "-- Create user --\n",
    "CREATE USER MYRIAM PASSWORD = 'difficult_passw@ord=123';\n",
    "\n",
    "-- Grant usage on warehouse --\n",
    "GRANT USAGE ON WAREHOUSE READ_WH TO ROLE PUBLIC;\n",
    "\n",
    "-- Grating privileges on a Shared Database for other users\n",
    "GRANT IMPORTED PRIVILEGES ON DATABASE DATA_SHARE_DB TO ROLE PUBLIC;\n"
   ]
  },
  {
   "cell_type": "markdown",
   "metadata": {},
   "source": [
    "#### Sharing an Entire Database or Schema\n"
   ]
  },
  {
   "cell_type": "code",
   "execution_count": null,
   "metadata": {
    "vscode": {
     "languageId": "plaintext"
    }
   },
   "outputs": [],
   "source": [
    "-- Share entire DB or schema --\n",
    "SHOW SHARES;\n",
    "\n",
    "-- Create share object --\n",
    "CREATE OR REPLACE SHARE COMEPLETE_SCHEMA_SHARE;\n",
    "\n",
    "-- Grant usage on database & schema --\n",
    "GRANT USAGE ON DATABASE OUR_FIRST_DB TO SHARE COMEPLETE_SCHEMA_SHARE;\n",
    "GRANT USAGE ON SCHEMA OUR_FIRST_DB.PUBLIC TO SHARE COMEPLETE_SCHEMA_SHARE;\n",
    "\n",
    "-- Grant select on all tables --\n",
    "GRANT SELECT ON ALL TABLES IN SCHEMA OUR_FIRST_DB.PUBLIC TO SHARE COMEPLETE_SCHEMA_SHARE;\n",
    "GRANT SELECT ON ALL TABLES IN DATABASE OUR_FIRST_DB TO SHARE COMEPLETE_SCHEMA_SHARE;\n",
    "\n",
    "-- Add account to share --\n",
    "ALTER SHARE COMEPLETE_SCHEMA_SHARE\n",
    "ADD ACCOUNT=KAA74702;\n"
   ]
  },
  {
   "cell_type": "markdown",
   "metadata": {},
   "source": [
    "#### Securing a View\n"
   ]
  },
  {
   "cell_type": "code",
   "execution_count": null,
   "metadata": {
    "vscode": {
     "languageId": "plaintext"
    }
   },
   "outputs": [],
   "source": [
    "-- Secure view --\n",
    "-- Create database & table --\n",
    "CREATE OR REPLACE DATABASE CUSTOMER_DB;\n",
    "\n",
    "CREATE OR REPLACE TABLE CUSTOMER_DB.public.customers (\n",
    "   id int,\n",
    "   first_name string,\n",
    "  last_name string,\n",
    "  email string,\n",
    "  gender string,\n",
    "  Job string,\n",
    "  Phone string);\n",
    "\n",
    "-- Stage and file format --\n",
    "CREATE OR REPLACE FILE FORMAT MANAGE_DB.file_formats.csv_file\n",
    "    type = csv\n",
    "    field_delimiter = ','\n",
    "    skip_header = 1;\n",
    "\n",
    "CREATE OR REPLACE STAGE MANAGE_DB.external_stages.time_travel_stage\n",
    "    URL = 's3://data-snowflake-fundamentals/time-travel/'\n",
    "    file_format = MANAGE_DB.file_formats.csv_file;\n",
    "\n",
    "LIST @MANAGE_DB.external_stages.time_travel_stage;\n",
    "\n",
    "-- Copy data and insert in table --\n",
    "COPY INTO CUSTOMER_DB.public.customers\n",
    "FROM @MANAGE_DB.external_stages.time_travel_stage\n",
    "files = ('customers.csv');\n",
    "\n",
    "SELECT * FROM  CUSTOMER_DB.PUBLIC.CUSTOMERS;\n",
    "\n",
    "-- Create VIEW -- \n",
    "CREATE OR REPLACE VIEW CUSTOMER_DB.PUBLIC.CUSTOMER_VIEW AS\n",
    "SELECT \n",
    "FIRST_NAME,\n",
    "LAST_NAME,\n",
    "EMAIL\n",
    "FROM CUSTOMER_DB.PUBLIC.CUSTOMERS\n",
    "WHERE JOB != 'DATA SCIENTIST'; \n",
    "\n",
    "-- Grant usage & SELECT --\n",
    "GRANT USAGE ON DATABASE CUSTOMER_DB TO ROLE PUBLIC;\n",
    "GRANT USAGE ON SCHEMA CUSTOMER_DB.PUBLIC TO ROLE PUBLIC;\n",
    "GRANT SELECT ON TABLE CUSTOMER_DB.PUBLIC.CUSTOMERS TO ROLE PUBLIC;\n",
    "GRANT SELECT ON VIEW CUSTOMER_DB.PUBLIC.CUSTOMER_VIEW TO ROLE PUBLIC;\n",
    "\n",
    "SHOW VIEWS LIKE '%CUSTOMER%';\n",
    "\n",
    "-- Create SECURE VIEW -- \n",
    "CREATE OR REPLACE SECURE VIEW CUSTOMER_DB.PUBLIC.CUSTOMER_VIEW_SECURE AS\n",
    "SELECT \n",
    "FIRST_NAME,\n",
    "LAST_NAME,\n",
    "EMAIL\n",
    "FROM CUSTOMER_DB.PUBLIC.CUSTOMERS\n",
    "WHERE JOB != 'DATA SCIENTIST' ;\n",
    "\n",
    "GRANT SELECT ON VIEW CUSTOMER_DB.PUBLIC.CUSTOMER_VIEW_SECURE TO ROLE PUBLIC;\n",
    "\n",
    "SHOW VIEWS LIKE '%CUSTOMER%';\n"
   ]
  },
  {
   "cell_type": "markdown",
   "metadata": {},
   "source": [
    "#### Sharing Views\n"
   ]
  },
  {
   "cell_type": "code",
   "execution_count": null,
   "metadata": {
    "vscode": {
     "languageId": "plaintext"
    }
   },
   "outputs": [],
   "source": [
    "-- Sharing views --\n",
    "SHOW SHARES;\n",
    "\n",
    "-- Create share object --\n",
    "CREATE OR REPLACE SHARE VIEW_SHARE;\n",
    "\n",
    "-- Grant usage on database & schema --\n",
    "GRANT USAGE ON DATABASE CUSTOMER_DB TO SHARE VIEW_SHARE;\n",
    "GRANT USAGE ON SCHEMA CUSTOMER_DB.PUBLIC TO SHARE VIEW_SHARE;\n",
    "\n",
    "-- Grant select on view --\n",
    "GRANT SELECT ON VIEW  CUSTOMER_DB.PUBLIC.CUSTOMER_VIEW TO SHARE VIEW_SHARE;\n",
    "GRANT SELECT ON VIEW  CUSTOMER_DB.PUBLIC.CUSTOMER_VIEW_SECURE TO SHARE VIEW_SHARE;\n",
    "\n",
    "-- Add account to share --\n",
    "ALTER SHARE VIEW_SHARE\n",
    "ADD ACCOUNT=KAA74702;\n"
   ]
  }
 ],
 "metadata": {
  "language_info": {
   "name": "python"
  }
 },
 "nbformat": 4,
 "nbformat_minor": 2
}
