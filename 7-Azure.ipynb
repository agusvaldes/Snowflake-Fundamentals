{
 "cells": [
  {
   "cell_type": "markdown",
   "metadata": {},
   "source": [
    "### Chapter 7: Azure Integration with Snowflake"
   ]
  },
  {
   "cell_type": "markdown",
   "metadata": {},
   "source": [
    "### Create Integration\n"
   ]
  },
  {
   "cell_type": "code",
   "execution_count": null,
   "metadata": {
    "vscode": {
     "languageId": "plaintext"
    }
   },
   "outputs": [],
   "source": [
    "USE DATABASE DEMO_DB;\n",
    "\n",
    "-- create integration object that contains the access information\n",
    "CREATE STORAGE INTEGRATION azure_integration\n",
    "  TYPE = EXTERNAL_STAGE\n",
    "  STORAGE_PROVIDER = AZURE\n",
    "  ENABLED = TRUE\n",
    "  AZURE_TENANT_ID = '9ecede0b-0e07-4da4-8047-e0672d6e403e'\n",
    "  STORAGE_ALLOWED_LOCATIONS = ('azure://storageaccountsnow.blob.core.windows.net/snowflakecsv', 'azure://storageaccountsnow.blob.core.windows.net/snowflakejson');\n",
    "\n",
    "-- Describe integration object to provide access\n",
    "DESC STORAGE integration azure_integration;"
   ]
  },
  {
   "cell_type": "markdown",
   "metadata": {},
   "source": [
    "### Create Stage\n"
   ]
  },
  {
   "cell_type": "code",
   "execution_count": null,
   "metadata": {
    "vscode": {
     "languageId": "plaintext"
    }
   },
   "outputs": [],
   "source": [
    "---- Create file format & stage objects ----\n",
    "\n",
    "-- create file format\n",
    "create or replace file format demo_db.public.fileformat_azure\n",
    "    TYPE = CSV\n",
    "    FIELD_DELIMITER = ','\n",
    "    SKIP_HEADER = 1;\n",
    "\n",
    "-- create stage object\n",
    "create or replace stage demo_db.public.stage_azure\n",
    "    STORAGE_INTEGRATION = azure_integration\n",
    "    URL = 'azure://storageaccountsnow.blob.core.windows.net/snowflakecsv'\n",
    "    FILE_FORMAT = fileformat_azure;\n",
    "\n",
    "-- list files\n",
    "LIST @demo_db.public.stage_azure;\n"
   ]
  },
  {
   "cell_type": "markdown",
   "metadata": {},
   "source": [
    "### Load CSV"
   ]
  },
  {
   "cell_type": "code",
   "execution_count": null,
   "metadata": {
    "vscode": {
     "languageId": "plaintext"
    }
   },
   "outputs": [],
   "source": [
    "---- Query files & Load data ----\n",
    "\n",
    "--query files\n",
    "SELECT \n",
    "$1,\n",
    "$2,\n",
    "$3,\n",
    "$4,\n",
    "$5,\n",
    "$6,\n",
    "$7,\n",
    "$8,\n",
    "$9,\n",
    "$10,\n",
    "$11,\n",
    "$12,\n",
    "$13,\n",
    "$14,\n",
    "$15,\n",
    "$16,\n",
    "$17,\n",
    "$18,\n",
    "$19,\n",
    "$20\n",
    "FROM @demo_db.public.stage_azure;\n",
    "\n",
    "create or replace table happiness (\n",
    "    country_name varchar,\n",
    "    regional_indicator varchar,\n",
    "    ladder_score number(4,3),\n",
    "    standard_error number(4,3),\n",
    "    upperwhisker number(4,3),\n",
    "    lowerwhisker number(4,3),\n",
    "    logged_gdp number(5,3),\n",
    "    social_support number(4,3),\n",
    "    healthy_life_expectancy number(5,3),\n",
    "    freedom_to_make_life_choices number(4,3),\n",
    "    generosity number(4,3),\n",
    "    perceptions_of_corruption number(4,3),\n",
    "    ladder_score_in_dystopia number(4,3),\n",
    "    explained_by_log_gpd_per_capita number(4,3),\n",
    "    explained_by_social_support number(4,3),\n",
    "    explained_by_healthy_life_expectancy number(4,3),\n",
    "    explained_by_freedom_to_make_life_choices number(4,3),\n",
    "    explained_by_generosity number(4,3),\n",
    "    explained_by_perceptions_of_corruption number(4,3),\n",
    "    dystopia_residual number (4,3));\n",
    "    \n",
    "COPY INTO HAPPINESS\n",
    "FROM @demo_db.public.stage_azure;\n",
    "\n",
    "SELECT * FROM HAPPINESS;\n"
   ]
  },
  {
   "cell_type": "markdown",
   "metadata": {},
   "source": [
    "### Load JSON"
   ]
  },
  {
   "cell_type": "code",
   "execution_count": null,
   "metadata": {
    "vscode": {
     "languageId": "plaintext"
    }
   },
   "outputs": [],
   "source": [
    "create or replace file format demo_db.public.fileformat_azure_json\n",
    "    TYPE = JSON;\n",
    "  \n",
    "create or replace stage demo_db.public.stage_azure\n",
    "    STORAGE_INTEGRATION = azure_integration\n",
    "    URL = 'azure://storageaccountsnow.blob.core.windows.net/snowflakejson'\n",
    "    FILE_FORMAT = fileformat_azure_json; \n",
    "  \n",
    "LIST  @demo_db.public.stage_azure;\n",
    "\n",
    "-- Query from stage  \n",
    "SELECT * FROM @demo_db.public.stage_azure;  \n",
    "\n",
    "\n",
    "-- Query one attribute/column\n",
    "SELECT $1:\"Car Model\" FROM @demo_db.public.stage_azure; \n",
    "  \n",
    "-- Convert data type  \n",
    "SELECT $1:\"Car Model\"::STRING FROM @demo_db.public.stage_azure; \n",
    "\n",
    "-- Query all attributes  \n",
    "SELECT \n",
    "$1:\"Car Model\"::STRING, \n",
    "$1:\"Car Model Year\"::INT,\n",
    "$1:\"car make\"::STRING, \n",
    "$1:\"first_name\"::STRING,\n",
    "$1:\"last_name\"::STRING\n",
    "FROM @demo_db.public.stage_azure;   \n",
    "  \n",
    "-- Query all attributes and use aliases \n",
    "SELECT \n",
    "$1:\"Car Model\"::STRING as car_model, \n",
    "$1:\"Car Model Year\"::INT as car_model_year,\n",
    "$1:\"car make\"::STRING as \"car make\", \n",
    "$1:\"first_name\"::STRING as first_name,\n",
    "$1:\"last_name\"::STRING as last_name\n",
    "FROM @demo_db.public.stage_azure;     \n",
    "\n",
    "\n",
    "create or replace table car_owner (\n",
    "    car_model varchar, \n",
    "    car_model_year int,\n",
    "    car_make varchar, \n",
    "    first_name varchar,\n",
    "    last_name varchar);\n",
    " \n",
    "COPY INTO car_owner\n",
    "FROM\n",
    "(SELECT \n",
    "$1:\"Car Model\"::STRING as car_model, \n",
    "$1:\"Car Model Year\"::INT as car_model_year,\n",
    "$1:\"car make\"::STRING as \"car make\", \n",
    "$1:\"first_name\"::STRING as first_name,\n",
    "$1:\"last_name\"::STRING as last_name\n",
    "FROM @demo_db.public.stage_azure);\n",
    "\n",
    "SELECT * FROM CAR_OWNER;\n",
    "\n",
    "-- Alternative: Using a raw file table step\n",
    "truncate table car_owner;\n",
    "select * from car_owner;\n",
    "\n",
    "create or replace table car_owner_raw (\n",
    "  raw variant);\n",
    "\n",
    "COPY INTO car_owner_raw\n",
    "FROM @demo_db.public.stage_azure;\n",
    "\n",
    "SELECT * FROM car_owner_raw;\n",
    "\n",
    "INSERT INTO car_owner  \n",
    "(SELECT \n",
    "$1:\"Car Model\"::STRING as car_model, \n",
    "$1:\"Car Model Year\"::INT as car_model_year,\n",
    "$1:\"car make\"::STRING as car_make, \n",
    "$1:\"first_name\"::STRING as first_name,\n",
    "$1:\"last_name\"::STRING as last_name\n",
    "FROM car_owner_raw);\n",
    "  \n",
    "select * from car_owner;"
   ]
  }
 ],
 "metadata": {
  "language_info": {
   "name": "python"
  }
 },
 "nbformat": 4,
 "nbformat_minor": 2
}
