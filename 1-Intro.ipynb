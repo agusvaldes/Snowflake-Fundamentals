{
 "cells": [
  {
   "cell_type": "markdown",
   "metadata": {},
   "source": [
    "## Chapter 1: Rename the database and create the table with metadata\n",
    "In this chapter, the task of renaming the \"FIRST_DB\" database to \"OUR_FIRST_DB\" is performed, and a new table named \"LOAN_PAYMENT\" is created in the \"OUR_FIRST_DB\" database with specific metadata.\n",
    "\n",
    "The code used for this section is as follows:"
   ]
  },
  {
   "cell_type": "code",
   "execution_count": 1,
   "metadata": {},
   "outputs": [
    {
     "ename": "SyntaxError",
     "evalue": "invalid syntax (2263554255.py, line 1)",
     "output_type": "error",
     "traceback": [
      "\u001b[1;36m  Cell \u001b[1;32mIn[1], line 1\u001b[1;36m\u001b[0m\n\u001b[1;33m    ALTER DATABASE FIRST_DB RENAME TO OUR_FIRST_DB;\u001b[0m\n\u001b[1;37m          ^\u001b[0m\n\u001b[1;31mSyntaxError\u001b[0m\u001b[1;31m:\u001b[0m invalid syntax\n"
     ]
    }
   ],
   "source": [
    "\"\"\"\n",
    "ALTER DATABASE FIRST_DB RENAME TO OUR_FIRST_DB;\n",
    "\n",
    "CREATE TABLE \"OUR_FIRST_DB\".\"PUBLIC\".\"LOAN_PAYMENT\" (\n",
    "  \"Loan_ID\" STRING,\n",
    "  \"loan_status\" STRING,\n",
    "  \"Principal\" STRING,\n",
    "  \"terms\" STRING,\n",
    "  \"effective_date\" STRING,\n",
    "  \"due_date\" STRING,\n",
    "  \"paid_off_time\" STRING,\n",
    "  \"past_due_days\" STRING,\n",
    "  \"age\" STRING,\n",
    "  \"education\" STRING,\n",
    "  \"Gender\" STRING);\n",
    "\"\"\""
   ]
  },
  {
   "cell_type": "markdown",
   "metadata": {},
   "source": [
    "Additionally, it checks if the table is empty, and then data is loaded from an S3 bucket using the CSV file format and a specific field delimiter. The data load is validated by checking the \"LOAN_PAYMENT\" table.\n",
    "\n",
    "The code used for this section is as follows:"
   ]
  },
  {
   "cell_type": "code",
   "execution_count": null,
   "metadata": {},
   "outputs": [],
   "source": [
    "\"\"\"\n",
    "USE DATABASE OUR_FIRST_DB;\n",
    "\n",
    "SELECT * FROM LOAN_PAYMENT;\n",
    "\n",
    "COPY INTO LOAN_PAYMENT\n",
    "    FROM s3://bucketsnowflakes3/Loan_payments_data.csv\n",
    "    file_format = (type = csv \n",
    "                   field_delimiter = ',' \n",
    "                   skip_header=1);\n",
    "\n",
    "SELECT * FROM LOAN_PAYMENT;\n",
    "\"\"\""
   ]
  }
 ],
 "metadata": {
  "kernelspec": {
   "display_name": "Proyecto1-gJG8LYw3",
   "language": "python",
   "name": "python3"
  },
  "language_info": {
   "codemirror_mode": {
    "name": "ipython",
    "version": 3
   },
   "file_extension": ".py",
   "mimetype": "text/x-python",
   "name": "python",
   "nbconvert_exporter": "python",
   "pygments_lexer": "ipython3",
   "version": "3.11.1"
  }
 },
 "nbformat": 4,
 "nbformat_minor": 2
}
