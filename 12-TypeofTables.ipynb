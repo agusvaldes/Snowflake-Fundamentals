{
 "cells": [
  {
   "cell_type": "markdown",
   "metadata": {},
   "source": [
    "## Chapter 12: Time Type of Tables in Snowflake"
   ]
  },
  {
   "cell_type": "markdown",
   "metadata": {},
   "source": [
    "### Permanent Tables"
   ]
  },
  {
   "cell_type": "code",
   "execution_count": null,
   "metadata": {
    "vscode": {
     "languageId": "plaintext"
    }
   },
   "outputs": [],
   "source": [
    "// Permanent tables in PDB\n",
    "CREATE OR REPLACE DATABASE PDB;\n",
    "\n",
    "CREATE OR REPLACE TABLE PDB.public.customers (\n",
    "   id int,\n",
    "   first_name string,\n",
    "   last_name string,\n",
    "   email string,\n",
    "   gender string,\n",
    "   Job string,\n",
    "   Phone string);\n",
    "  \n",
    "CREATE OR REPLACE TABLE PDB.public.helper (\n",
    "   id int,\n",
    "   first_name string,\n",
    "   last_name string,\n",
    "   email string,\n",
    "   gender string,\n",
    "   Job string,\n",
    "   Phone string);\n",
    "\n",
    "// Stage and file format\n",
    "CREATE OR REPLACE FILE FORMAT MANAGE_DB.file_formats.csv_file\n",
    "    type = csv\n",
    "    field_delimiter = ','\n",
    "    skip_header = 1\n",
    "    \n",
    "CREATE OR REPLACE STAGE MANAGE_DB.external_stages.time_travel_stage\n",
    "    URL = 's3://data-snowflake-fundamentals/time-travel/'\n",
    "    file_format = MANAGE_DB.file_formats.csv_file;\n",
    "    \n",
    "LIST @MANAGE_DB.external_stages.time_travel_stage;\n",
    "\n",
    "// Copy data and insert in table\n",
    "COPY INTO PDB.public.helper\n",
    "FROM @MANAGE_DB.external_stages.time_travel_stage\n",
    "files = ('customers.csv');\n",
    "\n",
    "SELECT * FROM PDB.public.helper;\n",
    "\n",
    "INSERT INTO PDB.public.customers\n",
    "SELECT\n",
    "t1.ID\n",
    ",t1.FIRST_NAME\t\n",
    ",t1.LAST_NAME\t\n",
    ",t1.EMAIL\t\n",
    ",t1.GENDER\t\n",
    ",t1.JOB\n",
    ",t1.PHONE\n",
    " FROM PDB.public.helper t1\n",
    "CROSS JOIN (SELECT * FROM PDB.public.helper) t2\n",
    "CROSS JOIN (SELECT TOP 100 * FROM PDB.public.helper) t3;\n",
    "\n",
    "// Show table and validate\n",
    "SHOW TABLES;\n"
   ]
  },
  {
   "cell_type": "markdown",
   "metadata": {},
   "source": [
    "### Temporary Tables"
   ]
  },
  {
   "cell_type": "code",
   "execution_count": null,
   "metadata": {
    "vscode": {
     "languageId": "plaintext"
    }
   },
   "outputs": [],
   "source": [
    "// Temporary tables in PDB\n",
    "USE DATABASE PDB;\n",
    "\n",
    "// Create permanent table \n",
    "CREATE OR REPLACE TABLE PDB.public.customers (\n",
    "   id int,\n",
    "   first_name string,\n",
    "  last_name string,\n",
    "  email string,\n",
    "  gender string,\n",
    "  Job string,\n",
    "  Phone string);\n",
    "\n",
    "INSERT INTO PDB.public.customers\n",
    "SELECT t1.* FROM OUR_FIRST_DB.public.customers t1\n",
    "\n",
    "SELECT * FROM PDB.public.customers\n",
    "\n",
    "// Create temporary table (with the same name)\n",
    "CREATE OR REPLACE TEMPORARY TABLE PDB.public.customers (\n",
    "   id int,\n",
    "   first_name string,\n",
    "  last_name string,\n",
    "  email string,\n",
    "  gender string,\n",
    "  Job string,\n",
    "  Phone string);\n",
    "\n",
    "// Validate temporary table is the active table\n",
    "SELECT * FROM PDB.public.customers;\n",
    "\n",
    "// Create second temporary table (with a new name)\n",
    "CREATE OR REPLACE TEMPORARY TABLE PDB.public.temp_table (\n",
    "   id int,\n",
    "   first_name string,\n",
    "  last_name string,\n",
    "  email string,\n",
    "  gender string,\n",
    "  Job string,\n",
    "  Phone string);\n",
    "\n",
    "// Insert data in the new table\n",
    "INSERT INTO PDB.public.temp_table\n",
    "SELECT * FROM PDB.public.customers\n",
    "\n",
    "SELECT * FROM PDB.public.temp_table\n",
    "\n",
    "SHOW TABLES;\n"
   ]
  },
  {
   "cell_type": "markdown",
   "metadata": {},
   "source": [
    "### Transient Tables"
   ]
  },
  {
   "cell_type": "code",
   "execution_count": null,
   "metadata": {
    "vscode": {
     "languageId": "plaintext"
    }
   },
   "outputs": [],
   "source": [
    "// Transient tables in TDB\n",
    "CREATE OR REPLACE DATABASE TDB;\n",
    "\n",
    "CREATE OR REPLACE TRANSIENT TABLE TDB.public.customers_transient (\n",
    "   id int,\n",
    "   first_name string,\n",
    "  last_name string,\n",
    "  email string,\n",
    "  gender string,\n",
    "  Job string,\n",
    "  Phone string);\n",
    "\n",
    "INSERT INTO TDB.public.customers_transient\n",
    "SELECT t1.* FROM OUR_FIRST_DB.public.customers t1\n",
    "CROSS JOIN (SELECT * FROM OUR_FIRST_DB.public.customers) t2\n",
    "\n",
    "SHOW TABLES;\n",
    "\n",
    "// Query storage\n",
    "SELECT * FROM SNOWFLAKE.ACCOUNT_USAGE.TABLE_STORAGE_METRICS\n",
    "\n",
    "SELECT \tID, \n",
    "       \tTABLE_NAME, \n",
    "\t\tTABLE_SCHEMA,\n",
    "        TABLE_CATALOG,\n",
    "\t\tACTIVE_BYTES,\n",
    "\t\tTIME_TRAVEL_BYTES / (1024*1024*1024) AS TIME_TRAVEL_STORAGE_USED_GB,\n",
    "\t\tFAILSAFE_BYTES / (1024*1024*1024) AS FAILSAFE_STORAGE_USED_GB,\n",
    "        IS_TRANSIENT,\n",
    "        DELETED,\n",
    "        TABLE_CREATED,\n",
    "        TABLE_DROPPED,\n",
    "        TABLE_ENTERED_FAILSAFE\n",
    "FROM SNOWFLAKE.ACCOUNT_USAGE.TABLE_STORAGE_METRICS\n",
    "WHERE TABLE_CATALOG ='TDB'\n",
    "ORDER BY TABLE_CREATED DESC;\n",
    "\n",
    "// Set retention time to 0\n",
    "ALTER TABLE TDB.public.customers_transient\n",
    "SET DATA_RETENTION_TIME_IN_DAYS  = 0\n",
    "\n",
    "DROP TABLE TDB.public.customers_transient;\n",
    "\n",
    "UNDROP TABLE TDB.public.customers_transient;\n",
    "\n",
    "SHOW TABLES;\n",
    "\n",
    "// Creating transient schema and then table \n",
    "CREATE OR REPLACE TRANSIENT SCHEMA TRANSIENT_SCHEMA;\n",
    "\n",
    "SHOW SCHEMAS;\n",
    "\n",
    "CREATE OR REPLACE TABLE TDB.TRANSIENT_SCHEMA.new_table (\n",
    "   id int,\n",
    "   first_name string,\n",
    "  last_name string,\n",
    "  email string,\n",
    "  gender string,\n",
    "  Job string,\n",
    "  Phone string);\n",
    "  \n",
    "ALTER TABLE TDB.TRANSIENT_SCHEMA.new_table\n",
    "SET DATA_RETENTION_TIME_IN_DAYS  = 2\n",
    "\n",
    "SHOW TABLES;\n"
   ]
  }
 ],
 "metadata": {
  "language_info": {
   "name": "python"
  }
 },
 "nbformat": 4,
 "nbformat_minor": 2
}
