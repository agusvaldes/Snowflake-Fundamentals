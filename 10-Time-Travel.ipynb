{
 "cells": [
  {
   "cell_type": "markdown",
   "metadata": {},
   "source": [
    "## Chapter 10: Time Travel and Data Management in Snowflake"
   ]
  },
  {
   "cell_type": "markdown",
   "metadata": {},
   "source": [
    "#### In this chapter, the test table in the OUR_FIRST_DB.public database was set up for exploring Time Travel in Snowflake. After accidentally updating data, three methods for time travel were demonstrated. The proper restoration approach using backup tables was highlighted, showcasing the significance of effective data recovery. Additionally, the chapter covered the use of UNDROP commands for recovering deleted objects and analyzed storage costs associated with Time Travel. This chapter provides essential insights into leveraging Time Travel for robust data management in Snowflake."
   ]
  },
  {
   "cell_type": "markdown",
   "metadata": {},
   "source": [
    "#### Using Time Travel\n"
   ]
  },
  {
   "cell_type": "code",
   "execution_count": null,
   "metadata": {
    "vscode": {
     "languageId": "plaintext"
    }
   },
   "outputs": [],
   "source": [
    "// Setting up table\n",
    "CREATE OR REPLACE TABLE OUR_FIRST_DB.public.test (\n",
    "   id int,\n",
    "   first_name string,\n",
    "  last_name string,\n",
    "  email string,\n",
    "  gender string,\n",
    "  Job string,\n",
    "  Phone string);\n",
    "    \n",
    "CREATE OR REPLACE FILE FORMAT MANAGE_DB.file_formats.csv_file\n",
    "    type = csv\n",
    "    field_delimiter = ','\n",
    "    skip_header = 1;\n",
    "    \n",
    "CREATE OR REPLACE STAGE MANAGE_DB.external_stages.time_travel_stage\n",
    "    URL = 's3://data-snowflake-fundamentals/time-travel/'\n",
    "    file_format = MANAGE_DB.file_formats.csv_file;\n",
    "   \n",
    "LIST @MANAGE_DB.external_stages.time_travel_stage;\n",
    "\n",
    "COPY INTO OUR_FIRST_DB.public.test\n",
    "from @MANAGE_DB.external_stages.time_travel_stage\n",
    "files = ('customers.csv');\n",
    "\n",
    "SELECT * FROM OUR_FIRST_DB.public.test;\n",
    "\n",
    "// Use-case: Update data (by mistake)\n",
    "UPDATE OUR_FIRST_DB.public.test\n",
    "SET FIRST_NAME = 'Joyen' ;\n",
    "\n",
    "// Using time travel: Method 1 - 2 minutes back\n",
    "SELECT * FROM OUR_FIRST_DB.public.test at (OFFSET => -60*1.5);\n",
    "\n",
    "// Using time travel: Method 2 - before timestamp\n",
    "SELECT * FROM OUR_FIRST_DB.public.test before (timestamp => '2021-04-15 17:47:50.581'::timestamp);\n",
    "\n",
    "-- Setting up table\n",
    "CREATE OR REPLACE TABLE OUR_FIRST_DB.public.test (\n",
    "   id int,\n",
    "   first_name string,\n",
    "  last_name string,\n",
    "  email string,\n",
    "  gender string,\n",
    "  Job string,\n",
    "  Phone string);\n",
    "\n",
    "COPY INTO OUR_FIRST_DB.public.test\n",
    "from @MANAGE_DB.external_stages.time_travel_stage\n",
    "files = ('customers.csv');\n",
    "\n",
    "SELECT * FROM OUR_FIRST_DB.public.test;\n",
    "\n",
    "ALTER SESSION SET TIMEZONE ='UTC';\n",
    "SELECT DATEADD(DAY, 1, CURRENT_TIMESTAMP);\n",
    "\n",
    "UPDATE OUR_FIRST_DB.public.test\n",
    "SET Job = 'Data Scientist';\n",
    "\n",
    "SELECT * FROM OUR_FIRST_DB.public.test;\n",
    "\n",
    "SELECT * FROM OUR_FIRST_DB.public.test before (timestamp => '2021-04-16 07:30:47.145'::timestamp);\n",
    "\n",
    "// Using time travel: Method 3 - before Query ID\n",
    "\n",
    "-- Preparing table\n",
    "CREATE OR REPLACE TABLE OUR_FIRST_DB.public.test (\n",
    "   id int,\n",
    "   first_name string,\n",
    "  last_name string,\n",
    "  email string,\n",
    "  gender string,\n",
    "  Phone string,\n",
    "  Job string);\n",
    "\n",
    "COPY INTO OUR_FIRST_DB.public.test\n",
    "from @MANAGE_DB.external_stages.time_travel_stage\n",
    "files = ('customers.csv');\n",
    "\n",
    "SELECT * FROM OUR_FIRST_DB.public.test;\n",
    "\n",
    "-- Altering table (by mistake)\n",
    "UPDATE OUR_FIRST_DB.public.test\n",
    "SET EMAIL = null;\n",
    "\n",
    "SELECT * FROM OUR_FIRST_DB.public.test;\n",
    "\n",
    "SELECT * FROM OUR_FIRST_DB.public.test before (statement => '019b9ee5-0500-8473-0043-4d8300073062');\n"
   ]
  },
  {
   "cell_type": "markdown",
   "metadata": {},
   "source": [
    "#### Restoring in Time Travel\n"
   ]
  },
  {
   "cell_type": "code",
   "execution_count": null,
   "metadata": {
    "vscode": {
     "languageId": "plaintext"
    }
   },
   "outputs": [],
   "source": [
    "// Setting up table\n",
    "CREATE OR REPLACE TABLE OUR_FIRST_DB.public.test (\n",
    "   id int,\n",
    "   first_name string,\n",
    "  last_name string,\n",
    "  email string,\n",
    "  gender string,\n",
    "  Job string,\n",
    "  Phone string);\n",
    "    \n",
    "\n",
    "COPY INTO OUR_FIRST_DB.public.test\n",
    "from @MANAGE_DB.external_stages.time_travel_stage\n",
    "files = ('customers.csv');\n",
    "\n",
    "SELECT * FROM OUR_FIRST_DB.public.test;\n",
    "\n",
    "// Use-case: Update data (by mistake)\n",
    "UPDATE OUR_FIRST_DB.public.test\n",
    "SET LAST_NAME = 'Tyson';\n",
    "\n",
    "UPDATE OUR_FIRST_DB.public.test\n",
    "SET JOB = 'Data Analyst';\n",
    "\n",
    "SELECT * FROM OUR_FIRST_DB.public.test before (statement => '019b9eea-0500-845a-0043-4d830007402a');\n",
    "\n",
    "// Bad method\n",
    "CREATE OR REPLACE TABLE OUR_FIRST_DB.public.test as\n",
    "SELECT * FROM OUR_FIRST_DB.public.test before (statement => '019b9eea-0500-845a-0043-4d830007402a');\n",
    "\n",
    "SELECT * FROM OUR_FIRST_DB.public.test;\n",
    "\n",
    "// Good method\n",
    "CREATE OR REPLACE TABLE OUR_FIRST_DB.public.test_backup as\n",
    "SELECT * FROM OUR_FIRST_DB.public.test before (statement => '019b9ef0-0500-8473-0043-4d830007309a');\n",
    "\n",
    "TRUNCATE OUR_FIRST_DB.public.test;\n",
    "\n",
    "INSERT INTO OUR_FIRST_DB.public.test\n",
    "SELECT * FROM OUR_FIRST_DB.public.test_backup;\n",
    "\n",
    "SELECT * FROM OUR_FIRST_DB.public.test ;\n"
   ]
  },
  {
   "cell_type": "markdown",
   "metadata": {},
   "source": [
    "#### Undrop"
   ]
  },
  {
   "cell_type": "code",
   "execution_count": null,
   "metadata": {
    "vscode": {
     "languageId": "plaintext"
    }
   },
   "outputs": [],
   "source": [
    "// Setting up table\n",
    "CREATE OR REPLACE STAGE MANAGE_DB.external_stages.time_travel_stage\n",
    "    URL = 's3://data-snowflake-fundamentals/time-travel/'\n",
    "    file_format = MANAGE_DB.file_formats.csv_file;\n",
    "    \n",
    "\n",
    "CREATE OR REPLACE TABLE OUR_FIRST_DB.public.customers (\n",
    "   id int,\n",
    "   first_name string,\n",
    "  last_name string,\n",
    "  email string,\n",
    "  gender string,\n",
    "  Job string,\n",
    "  Phone string);\n",
    "    \n",
    "\n",
    "COPY INTO OUR_FIRST_DB.public.customers\n",
    "from @MANAGE_DB.external_stages.time_travel_stage\n",
    "files = ('customers.csv');\n",
    "\n",
    "SELECT * FROM OUR_FIRST_DB.public.customers;\n",
    "\n",
    "// UNDROP command - Tables\n",
    "DROP TABLE OUR_FIRST_DB.public.customers;\n",
    "\n",
    "SELECT * FROM OUR_FIRST_DB.public.customers;\n",
    "\n",
    "UNDROP TABLE OUR_FIRST_DB.public.customers;\n",
    "\n",
    "// UNDROP command - Schemas\n",
    "DROP SCHEMA OUR_FIRST_DB.public;\n",
    "\n",
    "SELECT * FROM OUR_FIRST_DB.public.customers;\n",
    "\n",
    "UNDROP SCHEMA OUR_FIRST_DB.public;\n",
    "\n",
    "// UNDROP command - Database\n",
    "DROP DATABASE OUR_FIRST_DB;\n",
    "\n",
    "SELECT * FROM OUR_FIRST_DB.public.customers;\n",
    "\n",
    "UNDROP DATABASE OUR_FIRST_DB;\n",
    "\n",
    "// Restore replaced table \n",
    "UPDATE OUR_FIRST_DB.public.customers\n",
    "SET LAST_NAME = 'Tyson';\n",
    "\n",
    "UPDATE OUR_FIRST_DB.public.customers\n",
    "SET JOB = 'Data Analyst';\n",
    "\n",
    "// Undroping a with a name that already exists\n",
    "CREATE OR REPLACE TABLE OUR_FIRST_DB.public.customers as\n",
    "SELECT * FROM OUR_FIRST_DB.public.customers before (statement => '019b9f7c-0500-851b-0043-4d83000762be');\n",
    "\n",
    "SELECT * FROM OUR_FIRST_DB.public.customers;\n",
    "\n",
    "UNDROP table OUR_FIRST_DB.public.customers;\n",
    "\n",
    "ALTER TABLE OUR_FIRST_DB.public.customers\n",
    "RENAME TO OUR_FIRST_DB.public.customers_wrong;\n",
    "\n",
    "DESC table OUR_FIRST_DB.public.customers;\n"
   ]
  },
  {
   "cell_type": "markdown",
   "metadata": {},
   "source": [
    "#### Time Travel Cost\n"
   ]
  },
  {
   "cell_type": "code",
   "execution_count": null,
   "metadata": {
    "vscode": {
     "languageId": "plaintext"
    }
   },
   "outputs": [],
   "source": [
    "SELECT * FROM SNOWFLAKE.ACCOUNT_USAGE.STORAGE_USAGE ORDER BY USAGE_DATE DESC;\n",
    "\n",
    "SELECT * FROM SNOWFLAKE.ACCOUNT_USAGE.TABLE_STORAGE_METRICS;\n",
    "\n",
    "// Query time travel storage\n",
    "SELECT \tID, \n",
    "\t\tTABLE_NAME, \n",
    "\t\tTABLE_SCHEMA,\n",
    "        TABLE_CATALOG,\n",
    "\t\tACTIVE_BYTES / (1024*1024*1024) AS STORAGE_USED_GB,\n",
    "\t\tTIME_TRAVEL_BYTES / (1024*1024*1024) AS TIME_TRAVEL_STORAGE_USED_GB\n",
    "FROM SNOWFLAKE.ACCOUNT_USAGE.TABLE_STORAGE_METRICS\n",
    "ORDER BY STORAGE_USED_GB DESC,TIME_TRAVEL_STORAGE_USED_GB DESC;"
   ]
  }
 ],
 "metadata": {
  "language_info": {
   "name": "python"
  }
 },
 "nbformat": 4,
 "nbformat_minor": 2
}
